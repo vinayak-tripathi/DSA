{
 "cells": [
  {
   "cell_type": "markdown",
   "id": "f2bd0e9c-40d7-44d3-b136-71925b95a230",
   "metadata": {},
   "source": [
    "# 25-06-2022"
   ]
  },
  {
   "cell_type": "markdown",
   "id": "77c31d2b-6287-4025-b9c8-7b7dd93ab700",
   "metadata": {},
   "source": [
    "## Queue\n",
    "`Stack` operates on LIFO (LIFO list). i.e. the element which enetered last will come out first. Basically element at the top of the stack will be removed frst to access the element next to top. __Analogy is stack of plates__<br>\n",
    "`Queue` operates on FIFO (FIFO lsit). i.e. the element which is the first in the queue will be removed first. __Analogy is queue of people at ticket vending machine__"
   ]
  },
  {
   "cell_type": "markdown",
   "id": "5c38bfd4-57f2-4eb9-b323-7010739ca559",
   "metadata": {},
   "source": [
    "### Core operations of Queue\n",
    "Queue has two ends: front and rear end\n",
    "1. __Enqueue__: Insert element a the end of the queue. At the __rear end__\n",
    "2. __Dequeue__: Element removed from the front of the queue. Once an element is dequed the first will poin to the next element in the queue after the first one\n",
    "3. __Size__\n",
    "4. __isEmpty__\n",
    "5. __front__: return the front element of te queue"
   ]
  },
  {
   "cell_type": "markdown",
   "id": "04f2c349-edb7-4b23-b02a-e995909a84a7",
   "metadata": {},
   "source": [
    "## Queue using Array\n",
    "Implement a queue data structure using a list"
   ]
  },
  {
   "cell_type": "code",
   "execution_count": 48,
   "id": "b5c43de2-d6d2-4227-b98c-33e3fd27a025",
   "metadata": {},
   "outputs": [],
   "source": [
    "# My implementation\n",
    "class queue_array:\n",
    "    def __init__(self):\n",
    "        self.__lis = []\n",
    "        self.__count = 0\n",
    "    def enqueue(self,item):\n",
    "        self.__count +=1\n",
    "        self.__lis.append(item)\n",
    "    def dequeue(self):\n",
    "        if self.isEmpty():\n",
    "            print(\"Cannot remove from empty Queue\")\n",
    "            return            \n",
    "        else:\n",
    "            self.__count -=1\n",
    "            return self.__lis.pop(0)\n",
    "    def size(self):\n",
    "        return self.__count\n",
    "    def isEmpty(self):\n",
    "        return self.size() == 0\n",
    "    def front(self):\n",
    "        if self.isEmpty():\n",
    "            print(\"No Front element is Queue\")\n",
    "            return            \n",
    "        else:\n",
    "            return self.__lis[0]"
   ]
  },
  {
   "cell_type": "code",
   "execution_count": 50,
   "id": "f7e0e268-fae1-422d-89f7-d1e6dd321151",
   "metadata": {},
   "outputs": [],
   "source": [
    "# impelementation source Coding NInjas\n",
    "class queue_array:\n",
    "    def __init__(self):\n",
    "        self.__lis = []\n",
    "        self.__count = 0\n",
    "        self.__front = 0\n",
    "    def enqueue(self,item):\n",
    "        self.__count +=1\n",
    "        self.__lis.append(item)\n",
    "    def dequeue(self):\n",
    "        if self.isEmpty():\n",
    "            print(\"Cannot remove from empty Queue\")\n",
    "            return            \n",
    "        else:\n",
    "            self.__count -=1\n",
    "            # self.__front +=1\n",
    "            ele = self.__lis[self.__front]\n",
    "            self.__front +=1\n",
    "            return ele\n",
    "    def size(self):\n",
    "        return self.__count\n",
    "    def isEmpty(self):\n",
    "        return self.size() == 0\n",
    "    def front(self):\n",
    "        if self.isEmpty():\n",
    "            print(\"No Front element is Queue\")\n",
    "            return            \n",
    "        else:\n",
    "            return self.__lis[self.__front]"
   ]
  },
  {
   "cell_type": "code",
   "execution_count": 51,
   "id": "4a34d9b9-d01c-4779-9d9a-dc2b611015d5",
   "metadata": {},
   "outputs": [],
   "source": [
    "lis = [1,2,3,4,5,6]"
   ]
  },
  {
   "cell_type": "code",
   "execution_count": 44,
   "id": "de1eee68-b11d-41ab-945d-c10901baa3e0",
   "metadata": {},
   "outputs": [],
   "source": [
    "q = queue_array()"
   ]
  },
  {
   "cell_type": "code",
   "execution_count": 52,
   "id": "caee1ed1-446e-43d1-b3a0-3ea7b53e9aae",
   "metadata": {},
   "outputs": [
    {
     "name": "stdout",
     "output_type": "stream",
     "text": [
      "No Front element is Queue\n",
      "True\n",
      "Cannot remove from empty Queue\n",
      "Size 4\n",
      "Front 1\n",
      "1 removed\n",
      "2 removed\n",
      "Front 3\n",
      "Size 2\n"
     ]
    }
   ],
   "source": [
    "q = queue_array()\n",
    "q.front()\n",
    "print(q.isEmpty())\n",
    "q.dequeue()\n",
    "q.enqueue(1)\n",
    "q.enqueue(2)\n",
    "q.enqueue(3)\n",
    "q.enqueue(4)\n",
    "print(\"Size\",q.size())\n",
    "print(\"Front\",q.front())\n",
    "print(q.dequeue(), \"removed\")\n",
    "print(q.dequeue(), \"removed\")\n",
    "print(\"Front\",q.front())\n",
    "print(\"Size\",q.size())"
   ]
  },
  {
   "cell_type": "markdown",
   "id": "dac256ec-31de-4a8c-aeba-02e16ae07f96",
   "metadata": {},
   "source": [
    "## Queue using Linked List\n",
    "Implement a queue data structure using a linked list"
   ]
  },
  {
   "cell_type": "code",
   "execution_count": 65,
   "id": "6d2f035c-b7ce-4708-8d72-54b609b3c25a",
   "metadata": {},
   "outputs": [],
   "source": [
    "class Node:\n",
    "    def __init__(self,data):\n",
    "        self.data = data\n",
    "        self.next = None\n",
    "\n",
    "class queue_LL:\n",
    "    def __init__(self):\n",
    "        # here both the head and tail variables are maintained. If only head is maintained\n",
    "        # then while insertion the time complexity will be O(n) as we will \n",
    "        # need to traverse the list to reach the end of the list\n",
    "        self.__head = None\n",
    "        self.__tail = None\n",
    "        self.__count = 0\n",
    "    def enqueue(self,item):\n",
    "        node = Node(item)\n",
    "        if self.__head is None:\n",
    "            self.__head = node\n",
    "        else:\n",
    "            self.__tail.next = node\n",
    "        self.__tail = node\n",
    "        self.__count +=1\n",
    "    def dequeue(self):\n",
    "        if self.isEmpty():\n",
    "            # you can also check the condition as \"if head.next== None\"\n",
    "            print(\"Cannot removed from empty queue\")\n",
    "            return\n",
    "        else:\n",
    "            temp = self.__head\n",
    "            self.__head = self.__head.next\n",
    "            temp.next = None\n",
    "            self.__count -= 1\n",
    "            return temp.data\n",
    "    def size(self):\n",
    "        return self.__count\n",
    "    def front(self):\n",
    "        if self.isEmpty():\n",
    "            print(\"No front element found in Empty Queue\")\n",
    "            return\n",
    "        else:\n",
    "            return self.__head.data\n",
    "    def isEmpty(self):\n",
    "        return self.__count == 0"
   ]
  },
  {
   "cell_type": "code",
   "execution_count": 71,
   "id": "5b77024d-9d7e-4947-b694-d25e2a7f17f8",
   "metadata": {},
   "outputs": [
    {
     "name": "stdout",
     "output_type": "stream",
     "text": [
      "No front element found in Empty Queue\n",
      "True\n",
      "Cannot removed from empty queue\n",
      "Size 4\n",
      "Front 1\n",
      "1 removed\n",
      "2 removed\n",
      "Front 3\n",
      "Size 2\n"
     ]
    }
   ],
   "source": [
    "q = queue_LL()\n",
    "q.front()\n",
    "print(q.isEmpty())\n",
    "q.dequeue()\n",
    "q.enqueue(1)\n",
    "q.enqueue(2)\n",
    "q.enqueue(3)\n",
    "q.enqueue(4)\n",
    "print(\"Size\",q.size())\n",
    "print(\"Front\",q.front())\n",
    "print(q.dequeue(), \"removed\")\n",
    "print(q.dequeue(), \"removed\")\n",
    "print(\"Front\",q.front())\n",
    "print(\"Size\",q.size())"
   ]
  },
  {
   "cell_type": "code",
   "execution_count": 72,
   "id": "b48c0e27-4207-49dd-9779-08d877db2766",
   "metadata": {},
   "outputs": [
    {
     "name": "stdout",
     "output_type": "stream",
     "text": [
      "3\n",
      "4\n"
     ]
    }
   ],
   "source": [
    "while not q.isEmpty():\n",
    "    print(q.dequeue())"
   ]
  },
  {
   "cell_type": "markdown",
   "id": "43384589-d098-43d3-9376-5bf923cd9192",
   "metadata": {},
   "source": [
    "## Inbuilt Queue and Stack Library\n",
    "__import queue__: this module is available for python v>3"
   ]
  },
  {
   "cell_type": "markdown",
   "id": "80233c65-5b7c-4ac5-a9f6-88fb96f15fb8",
   "metadata": {},
   "source": [
    "Stack can be implemented using the array. This is simple Defina an array an then you can perform stack operation using .pop(), .append() inbuild list function. Rmember that you don't change the inbetween data in list else it won't remain stack <br>\n",
    "But this same thing cannot be done For Queue once you push at the last then if you want to pop or dequeue, it will need to return the first element but shifting the remaining list to start from 0th index. THis process is definitely not O(1). `So use inbuild function for queue`\n",
    "<br> __Queue uses FIFO algo__\n",
    "<br> __Stacks are LIFO alog__"
   ]
  },
  {
   "cell_type": "code",
   "execution_count": 4,
   "id": "2affc5b8-8d3f-49a1-828b-7317b37ea8dc",
   "metadata": {},
   "outputs": [],
   "source": [
    "import queue #inbuild library"
   ]
  },
  {
   "cell_type": "code",
   "execution_count": 5,
   "id": "2c46c462-9b5a-4572-a743-d9b0f83d4a80",
   "metadata": {},
   "outputs": [],
   "source": [
    "q = queue.Queue() # this defines a queue which is FIFO\n",
    "s = queue.LifoQueue() # this define a stack which is LIFO"
   ]
  },
  {
   "cell_type": "code",
   "execution_count": 36,
   "id": "3d2214f8-1039-4747-a0c5-66615dd8d480",
   "metadata": {},
   "outputs": [
    {
     "name": "stdout",
     "output_type": "stream",
     "text": [
      "False\n",
      "6\n",
      "5\n",
      "4\n",
      "False\n",
      "deque([3, 2, 1, 1, 2, 3, 1, 2, 3])\n",
      "9\n"
     ]
    }
   ],
   "source": [
    "q.put(1)\n",
    "q.put(2)\n",
    "q.put(3)\n",
    "print(q.empty())\n",
    "print(q.get())\n",
    "print(q.get())\n",
    "print(q.get())\n",
    "print(q.empty())\n",
    "q.put(1)\n",
    "q.put(2)\n",
    "q.put(3)\n",
    "print(q.queue) # this is to get the values of the queue as list\n",
    "print(q.qsize())"
   ]
  },
  {
   "cell_type": "markdown",
   "id": "6d7577fe-1006-4574-a6be-49cf927e5a0f",
   "metadata": {},
   "source": [
    "## Queue using two stacks\n",
    "This is a method where either one of enqueue or dequeue method will have time complexity of O(n)\n",
    "<br> Suppose s1 and s2 are two stacks\n",
    "* __Case 1: enquene is O(1) and dequeue is O(n):__<br>\n",
    "Make a normal stack using s1. Here insert element at the top of the stack when enqueue is done. While dequeue, the bottom most element in the stack should be removed. SO transfer the n-1 elements in the s2, remove the first element and then fill the s1 again.\n",
    "* __Case 2: enquene is O(n) and dequeue is O(1):__<br>\n",
    "Here s1 is not a normal stack. The new element is append at the bottom. While enqueue rtransfer all the exisiting entries from s1 to s2 and then insert the new element in s1. After this transfer all the element form s2 to s1 again. This will create a new stack witht eh new entry at the bottom and first entry at the top. That first entry cna be popped from the stack using normal pop operation"
   ]
  },
  {
   "cell_type": "code",
   "execution_count": 84,
   "id": "3809e4ec-c204-486d-8ccc-fa5c68998ddc",
   "metadata": {},
   "outputs": [],
   "source": [
    "class queue_2stacks:\n",
    "    def __init__(self):\n",
    "        self.__s1 = []\n",
    "        self.__s2 = []\n",
    "        \n",
    "    # enqueue is O(n) and dequeue is O(1)\n",
    "    def enqueue(self,item):\n",
    "        while len(self.__s1) !=0:\n",
    "            self.__s2.append(self.__s1.pop())\n",
    "        self.__s2.append(item)\n",
    "        while len(self.__s2) !=0:\n",
    "            self.__s1.append(self.__s2.pop())\n",
    "    def dequeue(self):\n",
    "        if self.isEmpty():\n",
    "            print(\"Cannot removed from empty queue\")\n",
    "            return\n",
    "        else:\n",
    "            return self.__s1.pop()\n",
    "    def size(self):\n",
    "        return len(self.__s1)\n",
    "    def front(self):\n",
    "        if self.isEmpty():\n",
    "            print(\"No front element found in Empty Queue\")\n",
    "            return\n",
    "        else:\n",
    "            # front element will be at the bottom of the list. \n",
    "            #Bottom of the list is the top of the stack \n",
    "            return self.__s1[-1]\n",
    "    def isEmpty(self):\n",
    "        return self.size() == 0"
   ]
  },
  {
   "cell_type": "code",
   "execution_count": 85,
   "id": "49708164-6785-4d83-9e8e-989efe161b92",
   "metadata": {},
   "outputs": [
    {
     "name": "stdout",
     "output_type": "stream",
     "text": [
      "No front element found in Empty Queue\n",
      "True\n",
      "Cannot removed from empty queue\n",
      "Size 4\n",
      "Front 1\n",
      "1 removed\n",
      "2 removed\n",
      "Front 3\n",
      "Size 2\n"
     ]
    }
   ],
   "source": [
    "q = queue_2stacks()\n",
    "q.front()\n",
    "print(q.isEmpty())\n",
    "q.dequeue()\n",
    "q.enqueue(1)\n",
    "q.enqueue(2)\n",
    "q.enqueue(3)\n",
    "q.enqueue(4)\n",
    "print(\"Size\",q.size())\n",
    "print(\"Front\",q.front())\n",
    "print(q.dequeue(), \"removed\")\n",
    "print(q.dequeue(), \"removed\")\n",
    "print(\"Front\",q.front())\n",
    "print(\"Size\",q.size())"
   ]
  },
  {
   "cell_type": "markdown",
   "id": "852b071d-2364-4e2d-bad6-311a411d2769",
   "metadata": {},
   "source": [
    "## Reverse a queue\n",
    "This is two step process. We will be using stack\n",
    "1. Pop the elements from the queue and insert into the stack. (Topmost element of the stack is the last element of the queue)\n",
    "2. Pop the elements of the stack to insert back into the queue. (The last element is the first one to be inserted into the queue)"
   ]
  },
  {
   "cell_type": "code",
   "execution_count": 28,
   "id": "5b24b3c7-0e63-46e6-9ba7-78bd7dad4e85",
   "metadata": {},
   "outputs": [],
   "source": [
    "from queue import Queue\n",
    "\n",
    "def reverqueue(q):\n",
    "    s = []\n",
    "    while (not q.empty()):\n",
    "        s.append(q.get())\n",
    "        print(s)\n",
    "    while (len(s) != 0):\n",
    "        q.put(s[-1])\n",
    "        s.pop()"
   ]
  },
  {
   "cell_type": "code",
   "execution_count": 29,
   "id": "58446b14-c9cb-471c-bf72-76f839eac1c6",
   "metadata": {},
   "outputs": [],
   "source": [
    "q = Queue()\n",
    "q.put(1)\n",
    "q.put(2)\n",
    "q.put(3)\n",
    "q.put(4)\n",
    "q.put(5)\n",
    "q.put(6)"
   ]
  },
  {
   "cell_type": "code",
   "execution_count": 30,
   "id": "7f25e69c-68e6-4b67-9161-512d3f073463",
   "metadata": {},
   "outputs": [
    {
     "name": "stdout",
     "output_type": "stream",
     "text": [
      "[1]\n",
      "[1, 2]\n",
      "[1, 2, 3]\n",
      "[1, 2, 3, 4]\n",
      "[1, 2, 3, 4, 5]\n",
      "[1, 2, 3, 4, 5, 6]\n"
     ]
    }
   ],
   "source": [
    "reverqueue(q)"
   ]
  },
  {
   "cell_type": "code",
   "execution_count": 27,
   "id": "f9eb4a12-eeb4-4cd4-9a19-9e86ab864800",
   "metadata": {},
   "outputs": [
    {
     "name": "stdout",
     "output_type": "stream",
     "text": [
      "6\n",
      "5\n",
      "4\n",
      "3\n",
      "2\n",
      "1\n"
     ]
    }
   ],
   "source": [
    "while not q.empty():\n",
    "    print(q.get())"
   ]
  },
  {
   "cell_type": "code",
   "execution_count": 37,
   "id": "9b3a32d5-98e3-4cad-896f-49b8285d655a",
   "metadata": {},
   "outputs": [],
   "source": [
    "def reverseKqueue(q,k):\n",
    "    s = []\n",
    "    \n",
    "    for i in range(k):\n",
    "        #putting first k elements in the stack for reversing\n",
    "        s.append(q.get())\n",
    "        print(s)\n",
    "    while (len(s) != 0):\n",
    "        # Entring thr k elements n reverse manner in original queue\n",
    "        q.put(s[-1])\n",
    "        s.pop()\n",
    "    for i in range(q.qsize()-k):\n",
    "        #removing the remaining first size-k elements and then appending it in the rear end\n",
    "        q.put(q.get())"
   ]
  },
  {
   "cell_type": "code",
   "execution_count": 40,
   "id": "e636a0a9-905d-45ac-870b-e153b93c2d1f",
   "metadata": {},
   "outputs": [
    {
     "data": {
      "text/plain": [
       "deque([3, 2, 1, 1, 2, 3, 1, 2, 3])"
      ]
     },
     "execution_count": 40,
     "metadata": {},
     "output_type": "execute_result"
    }
   ],
   "source": [
    "q.queue"
   ]
  },
  {
   "cell_type": "code",
   "execution_count": 41,
   "id": "75a0d45d-84d0-4fd5-998e-d152f40eecc6",
   "metadata": {},
   "outputs": [
    {
     "name": "stdout",
     "output_type": "stream",
     "text": [
      "[3]\n",
      "[3, 2]\n",
      "[3, 2, 1]\n"
     ]
    }
   ],
   "source": [
    "reverseKqueue(q,3)"
   ]
  },
  {
   "cell_type": "code",
   "execution_count": 42,
   "id": "d54f01bb-3659-4cb2-bfc6-ecace82af9a9",
   "metadata": {},
   "outputs": [
    {
     "data": {
      "text/plain": [
       "deque([1, 2, 3, 1, 2, 3, 1, 2, 3])"
      ]
     },
     "execution_count": 42,
     "metadata": {},
     "output_type": "execute_result"
    }
   ],
   "source": [
    "q.queue"
   ]
  }
 ],
 "metadata": {
  "kernelspec": {
   "display_name": "Python 3 (ipykernel)",
   "language": "python",
   "name": "python3"
  },
  "language_info": {
   "codemirror_mode": {
    "name": "ipython",
    "version": 3
   },
   "file_extension": ".py",
   "mimetype": "text/x-python",
   "name": "python",
   "nbconvert_exporter": "python",
   "pygments_lexer": "ipython3",
   "version": "3.9.5"
  }
 },
 "nbformat": 4,
 "nbformat_minor": 5
}
