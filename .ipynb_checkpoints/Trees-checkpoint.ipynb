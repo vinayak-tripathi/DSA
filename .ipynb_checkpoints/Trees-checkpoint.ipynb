{
 "cells": [
  {
   "cell_type": "markdown",
   "id": "16ba8b86-6b2d-4c78-8672-1de3724a9522",
   "metadata": {},
   "source": [
    "# 25-06-2022"
   ]
  },
  {
   "cell_type": "markdown",
   "id": "5dc1f96f-a5d7-486e-9c7e-dab275ef64f5",
   "metadata": {
    "tags": []
   },
   "source": [
    "## Trees Introduction\n",
    "Consists of Node and nodes are linked together to represet a kind of hierarchy. It can be viewed as a main tree linked to other sub trees.\n",
    "* Non-Linear data structure\n",
    "* Topmost Node is Root node\n",
    "* Each Node will conatin data and a link to other nodes (also called children)\n",
    "\n",
    "Example of tree are: the way files are stored in directory, Organizational heirarchy.<br>\n",
    "Two types of trees are there __Generic Tree__, and __Binary Tree__."
   ]
  },
  {
   "cell_type": "markdown",
   "id": "aed63923-0be4-4f0b-9a09-c4d2fd50f3af",
   "metadata": {},
   "source": [
    "## Binary Trees\n",
    "This is tree where every node node can have 0, 1 or max 2 children"
   ]
  },
  {
   "cell_type": "markdown",
   "id": "ad85d185-506a-4a29-973b-d8bfe01edc1c",
   "metadata": {},
   "source": [
    "### Terminology\n",
    "* root: Topmost node in the tree. Very similar to the head of the linked list.\n",
    "If root of the tree is givren then you can traverse the whole tree\n",
    "* Parent Node: The node which have sub nodes at lower level then it is called parent node of the sub nodes.\n",
    "* siblings:  If nodes have same parent node then two Nodes are said to be sibilings\n",
    "* leaf: These are nodes without children. This is end of the tree\n",
    "* Ancestors: THe Nodes in the paths till root node will define the Ancestoe."
   ]
  },
  {
   "cell_type": "markdown",
   "id": "111083ab-8a29-4943-9d7d-09c7bf5a6db9",
   "metadata": {},
   "source": [
    "## Time Complexity\n",
    "For every algo written in recursive manner will have time complexity of O(n) (where n is the no of nodes), since you are just doing a contant time task (base case condition checking) and calling for the next the child nodes."
   ]
  },
  {
   "cell_type": "markdown",
   "id": "056ecdbb-5a85-4a2a-b70f-42ba074941e9",
   "metadata": {},
   "source": [
    "# 26-06-2022"
   ]
  },
  {
   "cell_type": "markdown",
   "id": "35702773-77fc-4dda-9f95-1e35770a254b",
   "metadata": {},
   "source": [
    "## Create a Binary Tree in Python\n",
    "A node will conatain three attributes: data, left, right.<br>\n",
    "A leaf will conatian left and rght as None"
   ]
  },
  {
   "cell_type": "code",
   "execution_count": 1,
   "id": "10a9d1d6-31a8-4aa7-93b8-4cb72f0420e1",
   "metadata": {},
   "outputs": [],
   "source": [
    "class BinaryTreeNode:\n",
    "    def __init__(self,data):\n",
    "        self.data = data\n",
    "        self.left = None\n",
    "        self.right = None"
   ]
  },
  {
   "cell_type": "markdown",
   "id": "82925ad2-168e-4341-bced-cb6b79626393",
   "metadata": {},
   "source": [
    "### Printing Binary Tree"
   ]
  },
  {
   "cell_type": "code",
   "execution_count": null,
   "id": "698401d5-c99d-44f0-809c-1260c402d65e",
   "metadata": {},
   "outputs": [],
   "source": [
    "def printTree(root):\n",
    "    if root is None:\n",
    "        #here there are many ways of taking base case but this is the most easy way\n",
    "        # you can check if the root is leaf node by checking node.right and left are none\n",
    "        # but by checking root is None you need not define any other condition\n",
    "        return\n",
    "    print(root.data,end=\" : \")\n",
    "    if root.left is not None:\n",
    "        print(\"L\",root.left.data,end = \" \")\n",
    "    if root.right is not None:\n",
    "        print(\"R\",root.right.data,end = \" \")\n",
    "    print()\n",
    "    printTree(root.left)\n",
    "    printTree(root.right)"
   ]
  },
  {
   "cell_type": "markdown",
   "id": "b9c1a97d-82d1-45b3-926f-347e745ca0e8",
   "metadata": {},
   "source": [
    "### Take input from user"
   ]
  },
  {
   "cell_type": "code",
   "execution_count": 6,
   "id": "4a3701b4-f48f-498b-803a-8cd808adafa4",
   "metadata": {},
   "outputs": [],
   "source": [
    "def treeInput():\n",
    "    rootData = int(input())\n",
    "    if rootData == -1:\n",
    "        return None\n",
    "    root = BinaryTreeNode(rootData)\n",
    "    leftTree = treeInput()\n",
    "    rightTree = treeInput()\n",
    "    root.right = rightTree\n",
    "    root.left = leftTree\n",
    "    return root"
   ]
  },
  {
   "cell_type": "markdown",
   "id": "3dd8b432-2d98-4285-8ed3-0296197401be",
   "metadata": {},
   "source": [
    "### Count No of Nodes"
   ]
  },
  {
   "cell_type": "code",
   "execution_count": 5,
   "id": "dc254e65-f136-4e18-a4e2-40c159fa978c",
   "metadata": {},
   "outputs": [],
   "source": [
    "def numNode(root):\n",
    "    if root is None:\n",
    "        return 0\n",
    "    leftCount = numNode(root.left)\n",
    "    rightCount = numNode(root.right)\n",
    "    # if we don't add 1 here then final answer will be 0\n",
    "    return 1+leftCount+rightCount"
   ]
  },
  {
   "cell_type": "markdown",
   "id": "7630dfe9-4e9d-421a-a106-8b636ae41456",
   "metadata": {},
   "source": [
    "### Sum of Node\n",
    "For a given Binary Tree of integers, find and return the sum of all the nodes data."
   ]
  },
  {
   "cell_type": "code",
   "execution_count": 4,
   "id": "25900adf-95ee-4199-8cd9-e408a3006500",
   "metadata": {},
   "outputs": [],
   "source": [
    "def sumNode(root):\n",
    "    if root is None:\n",
    "        return 0\n",
    "    leftCount = sumNode(root.left)\n",
    "    rightCount = sumNode(root.right)\n",
    "    # if we don't add 1 here then final answer will be 0\n",
    "    return root.data+leftCount+rightCount"
   ]
  },
  {
   "cell_type": "markdown",
   "id": "a3827b0f-340a-4ca2-b4cd-456b42e26e55",
   "metadata": {},
   "source": [
    "### Find the maximum of node data"
   ]
  },
  {
   "cell_type": "code",
   "execution_count": 2,
   "id": "df86ec5b-ceb2-4a37-9caa-3f7da01e296a",
   "metadata": {},
   "outputs": [],
   "source": [
    "def maxNode(root):\n",
    "    if root is None:\n",
    "        return -1e12 # if root is none then return almost -infinity\n",
    "    leftmax = maxNode(root.left)\n",
    "    rightmax = maxNode(root.right)\n",
    "    return max(root.data,leftmax,rightmax)"
   ]
  },
  {
   "cell_type": "code",
   "execution_count": 17,
   "id": "ac7d7316-37b9-4126-ba68-36640da7dbae",
   "metadata": {},
   "outputs": [
    {
     "name": "stdout",
     "output_type": "stream",
     "text": [
      "1 : L 2 R 3 \n",
      "2 : \n",
      "3 : L 4 R 5 \n",
      "4 : L 6 \n",
      "6 : \n",
      "5 : \n"
     ]
    }
   ],
   "source": [
    "printTree(root)"
   ]
  },
  {
   "cell_type": "code",
   "execution_count": 25,
   "id": "c60cd6b8-878e-440c-a8bc-7b7660923873",
   "metadata": {},
   "outputs": [
    {
     "name": "stdout",
     "output_type": "stream",
     "text": [
      "6\n"
     ]
    }
   ],
   "source": [
    "print(maxNode(root))"
   ]
  },
  {
   "cell_type": "markdown",
   "id": "6c266868-a678-42c1-b7bb-a71ae73ff5d8",
   "metadata": {},
   "source": [
    "### Order of transversing the binary trees\n",
    "1. preOrder: root-->left-->right \n",
    "2. postorder: left-->right-root\n",
    "3. inOrder: left-->root-->right\n",
    "4. levelOrder: handle the nodes by level"
   ]
  },
  {
   "cell_type": "markdown",
   "id": "be5de5d5-ba97-45f1-a717-2bb11c13b649",
   "metadata": {},
   "source": [
    "# 29-06-2022"
   ]
  },
  {
   "cell_type": "markdown",
   "id": "e63fbaf9-a410-41f9-a70a-ec64a8b2c110",
   "metadata": {
    "tags": []
   },
   "source": [
    "## Find height of the tree\n",
    "Keep in mind that the height of the tree doenot depend on the any single path. But it is maximum "
   ]
  },
  {
   "cell_type": "code",
   "execution_count": 6,
   "id": "3ed1a22b-b6d7-45d2-bdb0-c7142ea6d1af",
   "metadata": {},
   "outputs": [],
   "source": [
    "def heightTree(arr):\n",
    "    if arr is None:\n",
    "        return 0\n",
    "    count_right = heightTree(arr.right)\n",
    "    count_left = heightTree(arr.left)\n",
    "    return max(count_right,count_left)+1"
   ]
  },
  {
   "cell_type": "code",
   "execution_count": 9,
   "id": "76a2f28f-be4d-476b-be9c-aed5e75546e7",
   "metadata": {},
   "outputs": [
    {
     "name": "stdin",
     "output_type": "stream",
     "text": [
      " 10\n",
      " 20\n",
      " 40\n",
      " -1\n",
      " -1\n",
      " 50\n",
      " -1\n",
      " -1\n",
      " 30\n",
      " -1\n",
      " -1\n"
     ]
    }
   ],
   "source": [
    "b = treeInput()"
   ]
  },
  {
   "cell_type": "code",
   "execution_count": 10,
   "id": "495b01dd-04ef-4147-addc-0edc24a112d3",
   "metadata": {},
   "outputs": [
    {
     "data": {
      "text/plain": [
       "3"
      ]
     },
     "execution_count": 10,
     "metadata": {},
     "output_type": "execute_result"
    }
   ],
   "source": [
    "heightTree(b)"
   ]
  },
  {
   "cell_type": "code",
   "execution_count": 12,
   "id": "2be2a1e6-0b80-4286-9d9a-34861695f8c2",
   "metadata": {},
   "outputs": [
    {
     "name": "stdout",
     "output_type": "stream",
     "text": [
      "10 : L 20 R 30 \n",
      "20 : L 40 R 50 \n",
      "40 : \n",
      "50 : \n",
      "30 : \n"
     ]
    }
   ],
   "source": [
    "printTree(b)"
   ]
  },
  {
   "cell_type": "markdown",
   "id": "cc614a97-0110-417f-843b-f2131ea554ce",
   "metadata": {},
   "source": [
    "## Number of Leaf Nodes in BT\n",
    "Here we have to consider the base case that if the Root is None then there will be not leaf node. Also if the both left and right of the root is None then only it is leaf."
   ]
  },
  {
   "cell_type": "code",
   "execution_count": 13,
   "id": "7c267b94-75f3-45f7-8d16-54740fb80026",
   "metadata": {},
   "outputs": [],
   "source": [
    "def numLeafNodes(root):\n",
    "    if root is None:\n",
    "        return 0\n",
    "    if root.left is None and root.right is None:\n",
    "        return 1\n",
    "    numLeafRight = numLeafNodes(root.right)\n",
    "    numLeafLeft = numLeafNodes(root.left)\n",
    "    return numLeafRight + numLeafLeft"
   ]
  },
  {
   "cell_type": "code",
   "execution_count": 14,
   "id": "294ccf5d-049c-4424-8aad-5a6ec4f3f74a",
   "metadata": {},
   "outputs": [
    {
     "name": "stdin",
     "output_type": "stream",
     "text": [
      " 1\n",
      " 2\n",
      " -1\n",
      " -1\n",
      " -1\n"
     ]
    }
   ],
   "source": [
    "b = treeInput()"
   ]
  },
  {
   "cell_type": "code",
   "execution_count": 15,
   "id": "4c0abe44-5469-4c20-a997-69b091cf3775",
   "metadata": {},
   "outputs": [
    {
     "data": {
      "text/plain": [
       "1"
      ]
     },
     "execution_count": 15,
     "metadata": {},
     "output_type": "execute_result"
    }
   ],
   "source": [
    "numLeafNodes(b)"
   ]
  },
  {
   "cell_type": "markdown",
   "id": "01708257-d53e-4a1e-8d27-637f879c4809",
   "metadata": {},
   "source": [
    "## Print Nodes at Depth K\n",
    "Approach is that as the nodes are traversed, reduce the value of k and where the value of k ==0 then we have reached the required dept and thus print the node data.<br>\n",
    "Other possible solution is that you can pass the depth and oncrease it will every traverse and check if is equal to the K. If yes then you have reached the required depth and thus print the node data"
   ]
  },
  {
   "cell_type": "code",
   "execution_count": 19,
   "id": "4f5f2692-1278-455e-bdfe-bb3f16a99495",
   "metadata": {},
   "outputs": [],
   "source": [
    "# here we will assume that K < height of BT\n",
    "def nodesAtK(root,k):\n",
    "    if root == None:\n",
    "        return\n",
    "    if k == 0:\n",
    "        print(root.data)\n",
    "        return\n",
    "    nodesAtK(root.left,k-1)\n",
    "    nodesAtK(root.right,k-1)"
   ]
  },
  {
   "cell_type": "code",
   "execution_count": 22,
   "id": "817b15f9-b433-43f2-9dbd-c8ceed2a1823",
   "metadata": {},
   "outputs": [
    {
     "name": "stdin",
     "output_type": "stream",
     "text": [
      " 1\n",
      " 2\n",
      " 4\n",
      " -1\n",
      " -1\n",
      " 5\n",
      " -1\n",
      " -1\n",
      " 3\n",
      " 6\n",
      " -1\n",
      " -1\n",
      " -1\n"
     ]
    }
   ],
   "source": [
    "b = treeInput()"
   ]
  },
  {
   "cell_type": "code",
   "execution_count": 23,
   "id": "123eee72-6874-4825-b8c5-000c5c8d58c1",
   "metadata": {},
   "outputs": [
    {
     "name": "stdout",
     "output_type": "stream",
     "text": [
      "4\n",
      "5\n",
      "6\n"
     ]
    }
   ],
   "source": [
    "nodesAtK(b,2)"
   ]
  },
  {
   "cell_type": "markdown",
   "id": "6fce63c4-e7c4-4108-b2ce-322c9d3ee0ba",
   "metadata": {},
   "source": [
    "## Replace Node with Depth\n",
    "For a given a Binary Tree of integers, replace each of its data with the depth of the tree.\n",
    "Root is at depth 0, hence the root data is updated with 0. Replicate the same further going down the in the depth of the given tree."
   ]
  },
  {
   "cell_type": "code",
   "execution_count": 24,
   "id": "52065491-923c-47bf-ad14-ad3b98cffa1d",
   "metadata": {},
   "outputs": [],
   "source": [
    "def repalceDepth(root,depth = 0):\n",
    "    if root is None:\n",
    "        return\n",
    "    root.data = depth\n",
    "    repalceDepth(root.left,depth+1)\n",
    "    repalceDepth(root.right,depth+1)"
   ]
  },
  {
   "cell_type": "code",
   "execution_count": 30,
   "id": "759e2880-c984-4bbf-8e97-741da7780e11",
   "metadata": {},
   "outputs": [],
   "source": [
    "def printInOrder(root):\n",
    "    if root is None:\n",
    "        return\n",
    "    printInOrder(root.left)\n",
    "    print(root.data,end = \" \")\n",
    "    printInOrder(root.right)"
   ]
  },
  {
   "cell_type": "code",
   "execution_count": 32,
   "id": "e2f8010c-9ba1-4cab-9d15-79ca13db3688",
   "metadata": {},
   "outputs": [],
   "source": [
    "repalceDepth(b)"
   ]
  },
  {
   "cell_type": "code",
   "execution_count": 33,
   "id": "4dea0a97-827b-4fc7-a49d-e6ad468ea9c1",
   "metadata": {},
   "outputs": [
    {
     "name": "stdout",
     "output_type": "stream",
     "text": [
      "2 1 2 0 2 1 "
     ]
    }
   ],
   "source": [
    "printInOrder(b)"
   ]
  },
  {
   "cell_type": "markdown",
   "id": "a3b7e12c-125b-4b99-a40d-daef84259ca4",
   "metadata": {},
   "source": [
    "## Is Node Present?\n",
    "For a given Binary Tree of type integer and a number X, find whether a node exists in the tree with data X or not."
   ]
  },
  {
   "cell_type": "code",
   "execution_count": 39,
   "id": "0450038d-0cdf-4821-bb82-687eb28ecfc4",
   "metadata": {},
   "outputs": [],
   "source": [
    "def isNodePresent(root,x):\n",
    "    if root is None:\n",
    "        return False\n",
    "    if root.data == x: return True\n",
    "    return isNodePresent(root.right,x) or isNodePresent(root.left,x)"
   ]
  },
  {
   "cell_type": "code",
   "execution_count": 43,
   "id": "58ba697c-bce9-4b53-8a2d-09c9f7f6f1de",
   "metadata": {},
   "outputs": [
    {
     "name": "stdin",
     "output_type": "stream",
     "text": [
      " 8\n",
      " 3\n",
      " 10\n",
      " 1\n",
      " 6\n",
      " -1\n",
      " 14\n",
      " -1\n",
      " -1\n",
      " 4\n",
      " 7\n",
      " 13\n",
      " -1\n",
      " -1\n",
      " -1\n",
      " -1\n",
      " -1\n",
      " -1\n",
      " -1\n"
     ]
    },
    {
     "name": "stdout",
     "output_type": "stream",
     "text": [
      "8 : L 3 \n",
      "3 : L 10 \n",
      "10 : L 1 \n",
      "1 : L 6 R 4 \n",
      "6 : R 14 \n",
      "14 : \n",
      "4 : L 7 \n",
      "7 : L 13 \n",
      "13 : \n"
     ]
    }
   ],
   "source": [
    "b = treeInput()\n",
    "printTree(b)"
   ]
  },
  {
   "cell_type": "code",
   "execution_count": 56,
   "id": "dd540eac-c992-4b78-8957-f9d0a6ba5781",
   "metadata": {},
   "outputs": [
    {
     "data": {
      "text/plain": [
       "True"
      ]
     },
     "execution_count": 56,
     "metadata": {},
     "output_type": "execute_result"
    }
   ],
   "source": [
    "isNodePresent(b,3)"
   ]
  },
  {
   "cell_type": "markdown",
   "id": "4f278f39-4482-4393-a633-3c649bc5f19a",
   "metadata": {},
   "source": [
    "## Nodes wothout sibling\n",
    "For a given Binary Tree of type integer, print all the nodes without any siblings.<br>\n",
    "<a href = \"https://www.geeksforgeeks.org/print-nodes-dont-sibling-binary-tree/\"> Source </a>"
   ]
  },
  {
   "cell_type": "code",
   "execution_count": 60,
   "id": "5dbd625d-6b0e-41aa-b24b-b46600d38473",
   "metadata": {},
   "outputs": [],
   "source": [
    "def printSingles(root):\n",
    " \n",
    "    # Base Case\n",
    "    if root is None:\n",
    "        return\n",
    " \n",
    "    # If this is an internal node , recur for left\n",
    "    # and right subtrees\n",
    "    if root.left is not None and root.right is not None:\n",
    "        printSingles(root.left)\n",
    "        printSingles(root.right)\n",
    " \n",
    "    # If left child is NULL, and right is not, print\n",
    "    # right child and recur for right child\n",
    "    elif root.right is not None:\n",
    "        print (root.right.data,end=\" \")\n",
    "        printSingles(root.right)\n",
    " \n",
    "    # If right child is NULL and left is not, print\n",
    "    # left child and recur for left child\n",
    "    elif root.left is not None:\n",
    "        print (root.left.data,end=\" \")\n",
    "        printSingles(root.left)"
   ]
  },
  {
   "cell_type": "code",
   "execution_count": 63,
   "id": "035da693-c3e6-470d-ac68-410fea7f4c04",
   "metadata": {},
   "outputs": [
    {
     "name": "stdout",
     "output_type": "stream",
     "text": [
      "3 10 1 14 7 13 "
     ]
    }
   ],
   "source": [
    "printSingles(b)"
   ]
  },
  {
   "cell_type": "code",
   "execution_count": 64,
   "id": "87d42a58-2a33-4264-b0f4-56290cda523c",
   "metadata": {},
   "outputs": [
    {
     "name": "stdin",
     "output_type": "stream",
     "text": [
      " 2\n",
      " 4\n",
      " 5\n",
      " 6\n",
      " -1\n",
      " -1\n",
      " 7\n",
      " 20\n",
      " 30\n",
      " 80\n",
      " 90\n",
      " -1\n",
      " 8\n",
      " 9\n",
      " -1\n",
      " -1\n",
      " -1\n",
      " -1\n",
      " -1\n",
      " -1\n",
      " -1\n",
      " -1\n",
      " -1\n"
     ]
    },
    {
     "name": "stdout",
     "output_type": "stream",
     "text": [
      "2 : L 4 \n",
      "4 : L 5 \n",
      "5 : L 6 R 7 \n",
      "6 : \n",
      "7 : L 20 \n",
      "20 : L 30 \n",
      "30 : L 80 \n",
      "80 : L 90 \n",
      "90 : R 8 \n",
      "8 : L 9 \n",
      "9 : \n"
     ]
    }
   ],
   "source": [
    "b = treeInput()\n",
    "printTree(b)"
   ]
  },
  {
   "cell_type": "code",
   "execution_count": 65,
   "id": "f6be5c3c-7af4-4468-ad9d-f800d98312f6",
   "metadata": {},
   "outputs": [
    {
     "name": "stdout",
     "output_type": "stream",
     "text": [
      "4 5 20 30 80 90 8 9 "
     ]
    }
   ],
   "source": [
    "printSingles(b)"
   ]
  },
  {
   "cell_type": "markdown",
   "id": "fe1331c8-d70d-4e73-b52b-c6b61ac766d9",
   "metadata": {},
   "source": [
    "# 05-07-2022"
   ]
  },
  {
   "cell_type": "markdown",
   "id": "efd8383f-98c4-4f3b-b9f2-e8b8c788e3e4",
   "metadata": {},
   "source": [
    "## Remove Leaf Nodes\n",
    "Above done questions were basically for getting data from the binary tree. This is the question where we have to chang the structure of tree"
   ]
  },
  {
   "cell_type": "code",
   "execution_count": 4,
   "id": "703ba592-6271-4bda-9899-3bb8251e4c7b",
   "metadata": {},
   "outputs": [],
   "source": [
    "def removeLeaves(root):\n",
    "    if root == None:\n",
    "        return None\n",
    "    if root.left==None and root.right==None:\n",
    "        return None\n",
    "    root.right = removeLeaves(root.right)\n",
    "    root.left = removeLeaves(root.left)\n",
    "    return root"
   ]
  },
  {
   "cell_type": "code",
   "execution_count": 7,
   "id": "59ae9281-0043-43ef-b68a-02ff8069b299",
   "metadata": {},
   "outputs": [
    {
     "name": "stdin",
     "output_type": "stream",
     "text": [
      " 1\n",
      " 2\n",
      " 4\n",
      " -1\n",
      " -1\n",
      " 5\n",
      " 8\n",
      " -1\n",
      " -1\n",
      " 9\n",
      " -1\n",
      " -1\n",
      " 3\n",
      " 6\n",
      " -1\n",
      " -1\n",
      " 7\n",
      " -1\n",
      " -1\n"
     ]
    },
    {
     "name": "stdout",
     "output_type": "stream",
     "text": [
      "1 : L 2 R 3 \n",
      "2 : L 4 R 5 \n",
      "4 : \n",
      "5 : L 8 R 9 \n",
      "8 : \n",
      "9 : \n",
      "3 : L 6 R 7 \n",
      "6 : \n",
      "7 : \n",
      "------------------\n",
      "1 : L 2 R 3 \n",
      "2 : R 5 \n",
      "5 : \n",
      "3 : \n"
     ]
    }
   ],
   "source": [
    "b = treeInput()\n",
    "printTree(b)\n",
    "removeLeaves(b)\n",
    "print(\"------------------\")\n",
    "printTree(b)"
   ]
  },
  {
   "cell_type": "markdown",
   "id": "603b1042-1fcf-4927-9656-2124e6f5d260",
   "metadata": {},
   "source": [
    "## Mirror the Binary tree"
   ]
  },
  {
   "cell_type": "code",
   "execution_count": 47,
   "id": "395fa0a1-8db6-4d4f-bc25-ad05c9048877",
   "metadata": {},
   "outputs": [],
   "source": [
    "def mirror(root):\n",
    "    if root==None:\n",
    "        return None\n",
    "    mirror(root.right)\n",
    "    mirror(root.left)\n",
    "    root.right,root.left = root.left,root.right"
   ]
  },
  {
   "cell_type": "code",
   "execution_count": 49,
   "id": "2b56ce9d-5170-483f-b66e-feeab1bdd4b5",
   "metadata": {},
   "outputs": [
    {
     "name": "stdin",
     "output_type": "stream",
     "text": [
      " 1\n",
      " 2\n",
      " 3\n",
      " 4\n",
      " 5\n",
      " 6\n",
      " 7\n",
      " 8\n",
      " 9\n",
      " -1\n",
      " -1\n",
      " -1\n",
      " -1\n",
      " -1\n",
      " -1\n",
      " -1\n",
      " -1\n",
      " -1\n",
      " -1\n"
     ]
    }
   ],
   "source": [
    "b = treeInput()"
   ]
  },
  {
   "cell_type": "code",
   "execution_count": 50,
   "id": "51fa8c81-5990-42dc-a103-17b9439a1436",
   "metadata": {},
   "outputs": [
    {
     "name": "stdout",
     "output_type": "stream",
     "text": [
      "1 : L 2 \n",
      "2 : L 3 \n",
      "3 : L 4 \n",
      "4 : L 5 \n",
      "5 : L 6 \n",
      "6 : L 7 \n",
      "7 : L 8 \n",
      "8 : L 9 \n",
      "9 : \n",
      "------------\n",
      "1 : R 2 \n",
      "2 : R 3 \n",
      "3 : R 4 \n",
      "4 : R 5 \n",
      "5 : R 6 \n",
      "6 : R 7 \n",
      "7 : R 8 \n",
      "8 : R 9 \n",
      "9 : \n"
     ]
    }
   ],
   "source": [
    "printTree(b)\n",
    "mirror(b)\n",
    "print(\"------------\")\n",
    "printTree(b)"
   ]
  },
  {
   "cell_type": "markdown",
   "id": "ad52bc13-ca65-489a-bb5c-d1abb3ccb273",
   "metadata": {},
   "source": [
    "## Check if the Binary tree is Balanced or not"
   ]
  },
  {
   "cell_type": "code",
   "execution_count": 1,
   "id": "2f609005-bbd3-4115-ad93-a28117be12cb",
   "metadata": {},
   "outputs": [],
   "source": [
    "def height(root):\n",
    "    if root== None:\n",
    "        return 0\n",
    "    return max(height(root.left),height(root.right)) + 1"
   ]
  },
  {
   "cell_type": "code",
   "execution_count": 13,
   "id": "f6805db2-bfaa-4223-9290-e072b4eaa290",
   "metadata": {},
   "outputs": [],
   "source": [
    "def isBalanced(root):\n",
    "    if root == None:\n",
    "        return True\n",
    "    rh = height(root.right)\n",
    "    lh = height(root.left)\n",
    "    if rh-lh>1 or lh-rh>1:\n",
    "        return False\n",
    "    isRightBalanced = isBalanced(root.right)\n",
    "    isLeftBalanced = isBalanced(root.left)\n",
    "    if isLeftBalanced and isRightBalanced: return True\n",
    "    else: return False"
   ]
  },
  {
   "cell_type": "code",
   "execution_count": 18,
   "id": "a148cbd9-b606-4e6c-9707-3938dea52350",
   "metadata": {},
   "outputs": [
    {
     "name": "stdin",
     "output_type": "stream",
     "text": [
      " 1\n",
      " 2\n",
      " 3\n",
      " 4\n",
      " -1\n",
      " -1\n",
      " 5\n",
      " -1\n",
      " -1\n",
      " 6\n",
      " 7\n",
      " -1\n",
      " -1\n",
      " 8\n",
      " -1\n",
      " -1\n",
      " 9\n",
      " 10\n",
      " 11\n",
      " -1\n",
      " -1\n",
      " 12\n",
      " -1\n",
      " -1\n",
      " 13\n",
      " 14\n",
      " -1\n",
      " -1\n",
      " 15\n",
      " -1\n",
      " -1\n"
     ]
    },
    {
     "name": "stdout",
     "output_type": "stream",
     "text": [
      "1 : L 2 R 9 \n",
      "2 : L 3 R 6 \n",
      "3 : L 4 R 5 \n",
      "4 : \n",
      "5 : \n",
      "6 : L 7 R 8 \n",
      "7 : \n",
      "8 : \n",
      "9 : L 10 R 13 \n",
      "10 : L 11 R 12 \n",
      "11 : \n",
      "12 : \n",
      "13 : L 14 R 15 \n",
      "14 : \n",
      "15 : \n",
      "True\n"
     ]
    }
   ],
   "source": [
    "b = treeInput()\n",
    "printTree(b)\n",
    "print(isBalanced(b))"
   ]
  },
  {
   "cell_type": "markdown",
   "id": "033054a1-c050-4067-8e0f-93f4e84c1ae7",
   "metadata": {
    "tags": []
   },
   "source": [
    "### Time Complexity analysis\n",
    "Here balanced algo is being called for n-1 time and doing a work of finding height every time via recursive call.<br>Now for finding height of the Binary Tree, the best case will give the time complexity of log(n) time since for every call it had to do work for n/2 times constant work (This will the case when the tree will be perfect balanced). The worst case will be that the binary tree has only on side, in this case the time complexity for finding the height will be the n.<br>\n",
    "Considering the overall timecomplexity of checking if the binary tree is balanced or not, it will be O(nh). For Best case it will be O(nlog(n) and worst cas it will be O(n<sup>2</sup>)"
   ]
  },
  {
   "cell_type": "markdown",
   "id": "28993e2c-4632-42fe-b141-2bfadea3b3e0",
   "metadata": {},
   "source": [
    "### Imporved\n",
    "Lets find the redundency in the code, the things we are doing repeatedly. While finding if the subtree is balance or not we are checking the height for the whole tree again and again. For e.g. suppose subtree1 is the child of subtree2. Now when we check if teh subtree1 is balanced then we find the height of the tree. Now when the subtree1 is true and subtree2 is checking the if it is balanced then it is agin calling height for the whole trees below it which als include the height of the subtree1."
   ]
  },
  {
   "cell_type": "markdown",
   "id": "f510dd42-599f-451e-bf4f-fc7bad18c5a7",
   "metadata": {},
   "source": [
    "The solution is that you can get the height from the previous recursive call. Then the time complexity will be O(n)"
   ]
  },
  {
   "cell_type": "code",
   "execution_count": 19,
   "id": "546b3ed7-1ab1-453d-8b1b-ce3406971aff",
   "metadata": {},
   "outputs": [],
   "source": [
    "def isBalancedImproved(root):\n",
    "    if root==None:\n",
    "        return 0,True\n",
    "    lh, isLeftBalanaced = isBalancedImproved(root.left)\n",
    "    rh, isRightBalanaced = isBalancedImproved(root.right)\n",
    "    if lh-rh>1 or rh-lh>1: return max(lh,rh)+1,False\n",
    "    if isLeftBalanaced and isRightBalanaced: return max(lh,rh)+1, True\n",
    "    else: return max(lh,rh)+1, False"
   ]
  },
  {
   "cell_type": "code",
   "execution_count": 24,
   "id": "c0cc35b9-dea2-481e-b052-3bb99dd42877",
   "metadata": {},
   "outputs": [
    {
     "name": "stdout",
     "output_type": "stream",
     "text": [
      "1 : L 2 R 9 \n",
      "2 : L 3 R 6 \n",
      "3 : L 4 R 5 \n",
      "4 : \n",
      "5 : \n",
      "6 : L 7 R 8 \n",
      "7 : \n",
      "8 : \n",
      "9 : L 10 R 13 \n",
      "10 : L 11 R 12 \n",
      "11 : \n",
      "12 : \n",
      "13 : L 14 R 15 \n",
      "14 : \n",
      "15 : \n",
      "Height of the Binary Tree is 4 and is it balanced?--> True\n"
     ]
    }
   ],
   "source": [
    "printTree(b)\n",
    "h,status = isBalancedImproved(b)\n",
    "print(\"Height of the Binary Tree is\",h,\"and is it balanced?-->\",status)"
   ]
  },
  {
   "cell_type": "markdown",
   "id": "92aea689-d29e-476f-a509-128b1b9db5ea",
   "metadata": {
    "tags": []
   },
   "source": [
    "## Find Diameter of binary tree\n",
    "The diameter of a tree can be defined as the maximum distance between two leaf nodes.<br>\n",
    "Here, the distance is measured in terms of the total number of nodes present along the path of the two leaf nodes, including both the leaves.\n"
   ]
  },
  {
   "cell_type": "markdown",
   "id": "caccb360-bc3f-43f9-8aee-51122709f321",
   "metadata": {},
   "source": [
    "Rememeber it is not necessary for a diameter of binary tree to pass through the root. The first assumption of diameter = rh+lh is wrong."
   ]
  },
  {
   "cell_type": "code",
   "execution_count": 9,
   "id": "d499bd18-ca91-4776-975c-1c58c9e88cfc",
   "metadata": {},
   "outputs": [],
   "source": [
    "def diameter(root):\n",
    "    if root==None:return 0\n",
    "    h = height(root.left)+height(root.right)\n",
    "    rd = diameter(root.right)\n",
    "    ld = diameter(root.left)\n",
    "    # h  = rh+lh\n",
    "    return max(h+1,rd,ld)"
   ]
  },
  {
   "cell_type": "code",
   "execution_count": 11,
   "id": "22781f57-25af-4be7-9cf1-0f8178b90cdf",
   "metadata": {},
   "outputs": [
    {
     "name": "stdin",
     "output_type": "stream",
     "text": [
      " 1\n",
      " 2\n",
      " 3\n",
      " 4\n",
      " -1\n",
      " -1\n",
      " 5\n",
      " -1\n",
      " 6\n",
      " -1\n",
      " 7\n",
      " -1\n",
      " -1\n",
      " 8\n",
      " -1\n",
      " 10\n",
      " 11\n",
      " -1\n",
      " -1\n",
      " 12\n",
      " 13\n",
      " -1\n",
      " -1\n",
      " -1\n",
      " 14\n",
      " -1\n",
      " -1\n"
     ]
    },
    {
     "name": "stdout",
     "output_type": "stream",
     "text": [
      "1 : L 2 R 14 \n",
      "2 : L 3 R 8 \n",
      "3 : L 4 R 5 \n",
      "4 : \n",
      "5 : R 6 \n",
      "6 : R 7 \n",
      "7 : \n",
      "8 : R 10 \n",
      "10 : L 11 R 12 \n",
      "11 : \n",
      "12 : L 13 \n",
      "13 : \n",
      "14 : \n"
     ]
    },
    {
     "data": {
      "text/plain": [
       "9"
      ]
     },
     "execution_count": 11,
     "metadata": {},
     "output_type": "execute_result"
    }
   ],
   "source": [
    "b = treeInput()\n",
    "printTree(b)\n",
    "diameter(b)"
   ]
  },
  {
   "cell_type": "code",
   "execution_count": 3,
   "id": "db6b2273-5ca4-4c8b-bdce-d397cdc75c7c",
   "metadata": {},
   "outputs": [],
   "source": [
    "def diameterImproved(root):\n",
    "    if root== None:\n",
    "        return 0,0\n",
    "    rd,rh = diameterImproved(root.right)\n",
    "    ld,lh = diameterImproved(root.left)\n",
    "    return max(rh+lh+1,rd,ld),max(rh,lh)+1"
   ]
  },
  {
   "cell_type": "code",
   "execution_count": 15,
   "id": "d5510fd4-a0c7-49cf-ab5c-db1359c85dc5",
   "metadata": {},
   "outputs": [
    {
     "name": "stdout",
     "output_type": "stream",
     "text": [
      "Height of the binary tree is 6 and the diameter is 9\n"
     ]
    }
   ],
   "source": [
    "dia,hei = diameterImproved(b)\n",
    "print(\"Height of the binary tree is\",hei,\"and the diameter is\",dia)"
   ]
  },
  {
   "cell_type": "markdown",
   "id": "5036bc75-4dba-402a-908c-1d55fe2551f1",
   "metadata": {},
   "source": [
    "### Time Complexity\n",
    "The time complexity analysis of finding diameter is same as checking if binary tree is balanced or not."
   ]
  },
  {
   "cell_type": "markdown",
   "id": "6097c2ff-c879-4c4e-8918-983d6f8adbf5",
   "metadata": {},
   "source": [
    "## Take Input Level Wise\n",
    "Using recursion is hard. Solving this iteratively We will be using queue to get the data for roots."
   ]
  },
  {
   "cell_type": "code",
   "execution_count": 1,
   "id": "20a0f7a3-fc54-4157-8e88-1019f4c5f7a1",
   "metadata": {},
   "outputs": [],
   "source": [
    "class BinaryTreeNode:\n",
    "    def __init__(self,data):\n",
    "        self.data = data\n",
    "        self.left = None\n",
    "        self.right = None"
   ]
  },
  {
   "cell_type": "code",
   "execution_count": 2,
   "id": "c2990356-1e12-4d30-8134-cd097471013d",
   "metadata": {},
   "outputs": [],
   "source": [
    "import queue\n",
    "def treeInput():\n",
    "    q = queue.Queue()\n",
    "    rootData = input()\n",
    "    if rootData==\"N\":return None # EMpty Root\n",
    "    root = BinaryTreeNode(int(rootData))\n",
    "    q.put(root)\n",
    "    while not q.empty():\n",
    "        currentNode = q.get()\n",
    "        leftChildData = input()\n",
    "        if leftChildData!=\"N\":\n",
    "            leftChild = BinaryTreeNode(int(leftChildData))\n",
    "            currentNode.left = leftChild\n",
    "            q.put(leftChild)\n",
    "        rightChildData = input()\n",
    "        if rightChildData!=\"N\":\n",
    "            rightChild = BinaryTreeNode(int(rightChildData))\n",
    "            currentNode.right = rightChild\n",
    "            q.put(rightChild)\n",
    "    return root"
   ]
  },
  {
   "cell_type": "code",
   "execution_count": 13,
   "id": "2ee9644b-d817-4fbc-8c5c-30c4ad141d47",
   "metadata": {},
   "outputs": [
    {
     "name": "stdin",
     "output_type": "stream",
     "text": [
      " 1\n",
      " 2\n",
      " 3\n",
      " 4\n",
      " 5\n",
      " 6\n",
      " 7\n",
      " N\n",
      " N\n",
      " 8\n",
      " N\n",
      " N\n",
      " N\n",
      " N\n",
      " N\n",
      " N\n",
      " N\n"
     ]
    },
    {
     "name": "stdout",
     "output_type": "stream",
     "text": [
      "1 : L 2 R 3 \n",
      "2 : L 4 R 5 \n",
      "4 : \n",
      "5 : L 8 \n",
      "8 : \n",
      "3 : L 6 R 7 \n",
      "6 : \n",
      "7 : \n"
     ]
    }
   ],
   "source": [
    "root = treeInput()\n",
    "printTree(root)"
   ]
  },
  {
   "cell_type": "code",
   "execution_count": 4,
   "id": "156b8709-d359-467d-98e8-5a8888aca60f",
   "metadata": {},
   "outputs": [],
   "source": [
    "def printTree(root):\n",
    "    q = queue.Queue()\n",
    "    if root != None:\n",
    "        q.put(root)\n",
    "    while not q.empty():\n",
    "        current = q.get()\n",
    "        print(current.data,\":\",end=\" \")\n",
    "        if current.left is not None:\n",
    "            print(\"L\",current.left.data,end = \" \")\n",
    "            q.put(current.left)\n",
    "        if current.right is not None:\n",
    "            print(\"R\",current.right.data,end = \" \")\n",
    "            q.put(current.right)\n",
    "        print()\n",
    "    return"
   ]
  },
  {
   "cell_type": "code",
   "execution_count": 19,
   "id": "bfabe402-b712-42aa-b096-5b88d73c89e4",
   "metadata": {},
   "outputs": [
    {
     "name": "stdout",
     "output_type": "stream",
     "text": [
      "1 : L 2 R 3 \n",
      "2 : L 4 R 5 \n",
      "3 : L 6 R 7 \n",
      "4 : \n",
      "5 : L 8 \n",
      "6 : \n",
      "7 : \n",
      "8 : \n"
     ]
    }
   ],
   "source": [
    "printTree(root)"
   ]
  },
  {
   "cell_type": "markdown",
   "id": "c868031c-0cae-42fb-80cf-8e7356604da2",
   "metadata": {},
   "source": [
    "## Crete Binary tree using preorder and inorder\n",
    "Given a particular preorder and inorder you can have only one binary tree.<br>\n",
    "PreOrder the sequence of printing of nodes is `root left right`<br>\n",
    "InOrder the squence of printing of nodes is `left root right`\n",
    "<br><br>\n",
    "In this we assume that no two value of the nodes is same."
   ]
  },
  {
   "cell_type": "code",
   "execution_count": null,
   "id": "8d635c5d-353f-4680-b0e9-9f31eca80e6c",
   "metadata": {},
   "outputs": [],
   "source": [
    "#      1\n",
    "#    /   \\\n",
    "#   2     3\n",
    "#  / \\   / \\\n",
    "# 4   5 6   7\n",
    "# Pre Order is 1 2 4 5 3 6 7\n",
    "# Inorder is 4 2 5 1 6 3 7"
   ]
  },
  {
   "cell_type": "code",
   "execution_count": 8,
   "id": "49f358a6-0a20-4359-93d3-c579edea8c14",
   "metadata": {},
   "outputs": [],
   "source": [
    "def BTusingPreIn(pre,ino):\n",
    "    if len(pre)==0 or len(ino)==0: return None\n",
    "    rootData = pre[0]\n",
    "    # print(rootData)\n",
    "    root = BinaryTreeNode(pre[0])\n",
    "    index = ino.index(rootData)\n",
    "    # print(index)\n",
    "    leftino = ino[:index]\n",
    "    rightino = ino[index+1:]\n",
    "    # print(leftino,rightino)\n",
    "    leftpre = pre[1:len(leftino)+1]\n",
    "    rightpre = pre[len(leftino)+1:]\n",
    "    # print(leftpre,rightpre)\n",
    "    rootLeft = BTusingPreIn(leftpre,leftino)\n",
    "    rootRight = BTusingPreIn(rightpre,rightino)\n",
    "    root.left = rootLeft\n",
    "    root.right = rootRight\n",
    "    return root"
   ]
  },
  {
   "cell_type": "code",
   "execution_count": 9,
   "id": "af4362dc-35d0-4358-a465-4bac36ff7d9c",
   "metadata": {},
   "outputs": [],
   "source": [
    "pre = [1,2,4,5,3,6,7]\n",
    "ino = [4,2,5,1,6,3,7]\n",
    "b = BTusingPreIn(pre,ino)"
   ]
  },
  {
   "cell_type": "code",
   "execution_count": 10,
   "id": "fa0a6ce2-3b12-4585-bf39-535b3aa02f09",
   "metadata": {},
   "outputs": [
    {
     "name": "stdout",
     "output_type": "stream",
     "text": [
      "1 : L 2 R 3 \n",
      "2 : L 4 R 5 \n",
      "4 : \n",
      "5 : \n",
      "3 : L 6 R 7 \n",
      "6 : \n",
      "7 : \n"
     ]
    }
   ],
   "source": [
    "printTree(b)"
   ]
  },
  {
   "cell_type": "markdown",
   "id": "30dcb57a-0eca-4409-975b-1cdf2137d48f",
   "metadata": {},
   "source": [
    "## Crete Binary tree using postorder and inorder\n",
    "Given a particular postorder and inorder you can have only one binary tree.<br>\n",
    "PostOrder the sequence of printing of nodes is `left right root`<br>\n",
    "InOrder the squence of printing of nodes is `left root right`\n",
    "<br><br>\n",
    "In this we assume that no two value of the nodes is same."
   ]
  },
  {
   "cell_type": "code",
   "execution_count": 11,
   "id": "58b9fb34-46f0-439c-ba4e-235e6b138600",
   "metadata": {},
   "outputs": [],
   "source": [
    "#      1\n",
    "#    /   \\\n",
    "#   2     3\n",
    "#  / \\   / \\\n",
    "# 4   5 6   7\n",
    "# PostOrder is 4 5 2 6 7 3 1\n",
    "# Inorder is 4 2 5 1 6 3 7"
   ]
  },
  {
   "cell_type": "code",
   "execution_count": 18,
   "id": "799694de-24e5-4c3d-8e8a-d7c94c6a870e",
   "metadata": {},
   "outputs": [],
   "source": [
    "def BTusingPostIn(post,ino):\n",
    "    if len(post)==0 or len(ino)==0: return None\n",
    "    rootData = post[-1]\n",
    "    # print(rootData)\n",
    "    root = BinaryTreeNode(rootData)\n",
    "    index = ino.index(rootData)\n",
    "    # print(index)\n",
    "    leftino = ino[:index]\n",
    "    rightino = ino[index+1:]\n",
    "    # print(leftino,rightino)\n",
    "    leftpost = post[:len(leftino)]\n",
    "    rightpost = post[len(leftino):-1]\n",
    "    # print(leftpost,rightpost)\n",
    "    rootLeft = BTusingPostIn(leftpost,leftino)\n",
    "    rootRight = BTusingPostIn(rightpost,rightino)\n",
    "    root.left = rootLeft\n",
    "    root.right = rootRight\n",
    "    return root"
   ]
  },
  {
   "cell_type": "code",
   "execution_count": 19,
   "id": "407a84ad-cd21-4faf-a0d8-d39cf0639d6d",
   "metadata": {},
   "outputs": [],
   "source": [
    "post = [4,5,2,6,7,3,1]\n",
    "ino = [4,2,5,1,6,3,7]\n",
    "b = BTusingPostIn(post,ino)"
   ]
  },
  {
   "cell_type": "code",
   "execution_count": 20,
   "id": "8a2de0a5-5e4c-4b9b-8e6d-6c51a74f088b",
   "metadata": {},
   "outputs": [
    {
     "name": "stdout",
     "output_type": "stream",
     "text": [
      "1 : L 2 R 3 \n",
      "2 : L 4 R 5 \n",
      "4 : \n",
      "5 : \n",
      "3 : L 6 R 7 \n",
      "6 : \n",
      "7 : \n"
     ]
    }
   ],
   "source": [
    "printTree(b)"
   ]
  },
  {
   "cell_type": "markdown",
   "id": "696c0ada-624a-4248-a015-1b41f37f90d5",
   "metadata": {},
   "source": [
    "## Create & Insert Duplicate Node\n",
    "For a given a Binary Tree of type integer, duplicate every node of the tree and attach it to the left of itself.\n",
    "The root will remain the same. So you just need to insert nodes in the given Binary Tree.\n"
   ]
  },
  {
   "cell_type": "code",
   "execution_count": 33,
   "id": "01b8934b-11c9-4aa4-8f79-45dc4187ceb1",
   "metadata": {},
   "outputs": [],
   "source": [
    "def insertDuplicate(root):\n",
    "    if root==None:return None\n",
    "    insertDuplicate(root.left)\n",
    "    insertDuplicate(root.right)\n",
    "    temp = root.left\n",
    "    root.left = BinaryTreeNode(root.data)\n",
    "    root.left.left = temp"
   ]
  },
  {
   "cell_type": "code",
   "execution_count": 40,
   "id": "eefcf5a7-ef2c-45b2-a5ec-1c7808e27e2f",
   "metadata": {},
   "outputs": [
    {
     "name": "stdin",
     "output_type": "stream",
     "text": [
      " 1\n",
      " 2\n",
      " 3\n",
      " N\n",
      " N\n",
      " N\n",
      " N\n"
     ]
    },
    {
     "name": "stdout",
     "output_type": "stream",
     "text": [
      "1 : L 2 R 3 \n",
      "2 : \n",
      "3 : \n",
      "---------------------------\n",
      "1 : L 1 R 3 \n",
      "1 : L 2 \n",
      "2 : L 2 \n",
      "2 : \n",
      "3 : L 3 \n",
      "3 : \n"
     ]
    }
   ],
   "source": [
    "b = treeInput()\n",
    "printTree(b)\n",
    "insertDuplicate(b)\n",
    "print(\"---------------------------\")\n",
    "printTree(b)"
   ]
  },
  {
   "cell_type": "markdown",
   "id": "1e949f72-b96c-45b5-976c-eb6e520631d3",
   "metadata": {},
   "source": [
    "## Min and Max of Binary Tree\n",
    "For a given a Binary Tree of type integer, find and return the minimum and the maximum data values.\n"
   ]
  },
  {
   "cell_type": "code",
   "execution_count": 54,
   "id": "47e8d16c-9490-4d74-abdb-3ae41e4b88d5",
   "metadata": {},
   "outputs": [],
   "source": [
    "def minmax(root):\n",
    "    if root==None:return None,None\n",
    "    left = minmax(root.left)\n",
    "    right = minmax(root.right)\n",
    "    # print(left)\n",
    "    # print(right)\n",
    "    lma = root.data if left[1]==None else max(left[1],root.data)\n",
    "    lmi = root.data if left[0]==None else min(left[0],root.data)\n",
    "    rma = root.data if right[1]==None else max(right[1],root.data)\n",
    "    rmi = root.data if right[0]==None else min(right[0],root.data)\n",
    "    return min(lmi,rmi),max(lma,rma)"
   ]
  },
  {
   "cell_type": "code",
   "execution_count": 52,
   "id": "dae60190-fbd9-427d-8d89-657cd7b080f1",
   "metadata": {},
   "outputs": [
    {
     "name": "stdin",
     "output_type": "stream",
     "text": [
      " 8\n",
      " 3\n",
      " 10\n",
      " 1\n",
      " 6\n",
      " N\n",
      " 14\n",
      " N\n",
      " N\n",
      " 4\n",
      " 7\n",
      " 13\n",
      " N\n",
      " N\n",
      " N\n",
      " N\n",
      " N\n",
      " N\n",
      " N\n"
     ]
    },
    {
     "name": "stdout",
     "output_type": "stream",
     "text": [
      "8 : L 3 R 10 \n",
      "3 : L 1 R 6 \n",
      "1 : \n",
      "6 : L 4 R 7 \n",
      "4 : \n",
      "7 : \n",
      "10 : R 14 \n",
      "14 : L 13 \n",
      "13 : \n"
     ]
    }
   ],
   "source": [
    "b= treeInput()\n",
    "printTree(b)"
   ]
  },
  {
   "cell_type": "code",
   "execution_count": 55,
   "id": "7292d867-cc2c-4b93-b4a9-e6f3f1ee4084",
   "metadata": {},
   "outputs": [
    {
     "data": {
      "text/plain": [
       "(1, 14)"
      ]
     },
     "execution_count": 55,
     "metadata": {},
     "output_type": "execute_result"
    }
   ],
   "source": [
    "minmax(b)"
   ]
  },
  {
   "cell_type": "markdown",
   "id": "098f86f0-ef51-4e8b-bf28-8aef192e122f",
   "metadata": {},
   "source": [
    "## Level order traversal\n",
    "For a given a Binary Tree of type integer, print it in a level order fashion where each level will be printed on a new line. Elements on every level will be printed in a linear fashion and a single space will separate them."
   ]
  },
  {
   "cell_type": "code",
   "execution_count": 36,
   "id": "31035c19-0188-4ed2-87c5-27e5d9dcf3d6",
   "metadata": {},
   "outputs": [],
   "source": [
    "def levelordertraversal(root):\n",
    "    if root == None: return None\n",
    "    q = queue.Queue()\n",
    "    q.put(root)\n",
    "    q.put(None) # None is the level over identifier\n",
    "    i=0\n",
    "    flag = 0\n",
    "    while (not q.empty()):\n",
    "        current = q.get(0)\n",
    "        if current==None:\n",
    "            if q.empty():break # if the q is empty then break as no element id remaining\n",
    "            current = q.get(0)\n",
    "            print()\n",
    "            q.put(None) \n",
    "            # whenever the None is dequeued \n",
    "            #then a new none is inserted as this indeicated the end of the level\n",
    "        print(current.data,end=\" \")\n",
    "        if current.left is not None:q.put(current.left)\n",
    "        if current.right is not None:q.put(current.right)"
   ]
  },
  {
   "cell_type": "code",
   "execution_count": 34,
   "id": "ae95d5e7-7643-48f4-8e71-f0b80a3f2d66",
   "metadata": {},
   "outputs": [
    {
     "name": "stdin",
     "output_type": "stream",
     "text": [
      " 1\n",
      " 2\n",
      " 3\n",
      " 4\n",
      " 5\n",
      " 6\n",
      " 7\n",
      " N\n",
      " N\n",
      " 8\n",
      " N\n",
      " 10\n",
      " N\n",
      " N\n",
      " N\n",
      " 9\n",
      " N\n",
      " N\n",
      " N\n",
      " N\n",
      " N\n"
     ]
    },
    {
     "name": "stdout",
     "output_type": "stream",
     "text": [
      "1 : L 2 R 3 \n",
      "2 : L 4 R 5 \n",
      "3 : L 6 R 7 \n",
      "4 : \n",
      "5 : L 8 \n",
      "6 : L 10 \n",
      "7 : \n",
      "8 : L 9 \n",
      "10 : \n",
      "9 : \n"
     ]
    }
   ],
   "source": [
    "b = treeInput()\n",
    "printTree(b)"
   ]
  },
  {
   "cell_type": "code",
   "execution_count": 37,
   "id": "a66ff285-6596-4423-9550-d57997bf0997",
   "metadata": {},
   "outputs": [
    {
     "name": "stdout",
     "output_type": "stream",
     "text": [
      "1 \n",
      "2 3 \n",
      "4 5 6 7 \n",
      "8 10 \n",
      "9 "
     ]
    }
   ],
   "source": [
    "levelordertraversal(b)"
   ]
  },
  {
   "cell_type": "markdown",
   "id": "41a05915-eee5-43bd-834e-7e8119316a33",
   "metadata": {},
   "source": [
    "# 12-06-2022"
   ]
  },
  {
   "cell_type": "markdown",
   "id": "e18cf5e1-4019-4ef7-a6ed-5d068c25548f",
   "metadata": {},
   "source": [
    "## Path Sum Root to Leaf\n",
    "For a given Binary Tree of type integer and a number K, print out all root-to-leaf paths where the sum of all the node data along the path is equal to K.\n"
   ]
  },
  {
   "cell_type": "code",
   "execution_count": 65,
   "id": "1dd9d7c7-e55c-4a00-a74b-f3d1a5e90123",
   "metadata": {},
   "outputs": [],
   "source": [
    "def RootToLeafSum(root, s, q=[]):\n",
    "    ans = 0\n",
    "    remsum = s - root.data\n",
    "    q.append(root.data)\n",
    "    if remsum==0 and root.left==None and root.right==None:\n",
    "        print(q)\n",
    "        # check if the node is leaf and sum ==0 and then print it\n",
    "    \n",
    "    # if not leaf then find the roottoleaf path for the left and right subtree\n",
    "    if root.left is not None:\n",
    "        RootToLeafSum(root.left,remsum,q)\n",
    "    if root.right is not None:\n",
    "        RootToLeafSum(root.right,remsum,q)\n",
    "    # pop the last element from the queue\n",
    "    q.pop()\n",
    "    return"
   ]
  },
  {
   "cell_type": "code",
   "execution_count": 59,
   "id": "5b226cd9-984a-4d90-8820-7ba612156f08",
   "metadata": {},
   "outputs": [
    {
     "name": "stdin",
     "output_type": "stream",
     "text": [
      " 2\n",
      " 3\n",
      " 9\n",
      " 4\n",
      " 8\n",
      " N\n",
      " 2\n",
      " 4\n",
      " N\n",
      " N\n",
      " N\n",
      " 6\n",
      " N\n",
      " N\n",
      " N\n",
      " N\n",
      " N\n"
     ]
    }
   ],
   "source": [
    "b= treeInput()"
   ]
  },
  {
   "cell_type": "code",
   "execution_count": 64,
   "id": "a202d2fb-add9-4f54-95b3-712d6c43655f",
   "metadata": {},
   "outputs": [
    {
     "name": "stdout",
     "output_type": "stream",
     "text": [
      "[2, 9, 2, 6]\n"
     ]
    }
   ],
   "source": [
    "RootToLeafSum(b,19)"
   ]
  },
  {
   "cell_type": "markdown",
   "id": "b27fb91e-ffef-4cc9-9e5c-362b6a8ce48b",
   "metadata": {},
   "source": [
    "## Print nodes at distance k from node\n",
    "You are given a Binary Tree of type integer, a target node, and an integer value K.\n",
    "Print the data of all nodes that have a distance K from the target node. The order in which they would be printed will not matter."
   ]
  },
  {
   "cell_type": "code",
   "execution_count": 6,
   "id": "2d63dbc4-af9a-44bd-828f-75377757890d",
   "metadata": {},
   "outputs": [],
   "source": [
    "class BinaryTreeNode:\n",
    "    def __init__(self,data):\n",
    "        self.data = data\n",
    "        self.left = None\n",
    "        self.right = None"
   ]
  },
  {
   "cell_type": "code",
   "execution_count": 7,
   "id": "fa60e2be-4a4c-4e62-bc4f-4a0ea443bdb8",
   "metadata": {},
   "outputs": [],
   "source": [
    "import queue\n",
    "def treeInput():\n",
    "    q = queue.Queue()\n",
    "    rootData = input()\n",
    "    if rootData==\"N\":return None # EMpty Root\n",
    "    root = BinaryTreeNode(int(rootData))\n",
    "    q.put(root)\n",
    "    while not q.empty():\n",
    "        currentNode = q.get()\n",
    "        leftChildData = input()\n",
    "        if leftChildData!=\"N\":\n",
    "            leftChild = BinaryTreeNode(int(leftChildData))\n",
    "            currentNode.left = leftChild\n",
    "            q.put(leftChild)\n",
    "        rightChildData = input()\n",
    "        if rightChildData!=\"N\":\n",
    "            rightChild = BinaryTreeNode(int(rightChildData))\n",
    "            currentNode.right = rightChild\n",
    "            q.put(rightChild)\n",
    "    return root"
   ]
  },
  {
   "cell_type": "code",
   "execution_count": 8,
   "id": "b13b281f-f962-4e80-abbe-1cd0cf6290db",
   "metadata": {},
   "outputs": [],
   "source": [
    "def printTree(root):\n",
    "    q = queue.Queue()\n",
    "    if root != None:\n",
    "        q.put(root)\n",
    "    while not q.empty():\n",
    "        current = q.get()\n",
    "        print(current.data,\":\",end=\" \")\n",
    "        if current.left is not None:\n",
    "            print(\"L\",current.left.data,end = \" \")\n",
    "            q.put(current.left)\n",
    "        if current.right is not None:\n",
    "            print(\"R\",current.right.data,end = \" \")\n",
    "            q.put(current.right)\n",
    "        print()\n",
    "    return"
   ]
  },
  {
   "cell_type": "code",
   "execution_count": 17,
   "id": "cce5898a-a5f2-48b9-930e-131cf846bf35",
   "metadata": {},
   "outputs": [],
   "source": [
    "def printkDistance(root,k): \n",
    "    if root is None or k< 0 : \n",
    "        return \n",
    "    if k==0: \n",
    "        print(root.data) \n",
    "        return \n",
    "    printkDistance(root.left,k-1) \n",
    "    printkDistance(root.right,k-1)\n",
    "    \n",
    "def printkdistancenode(root,target,k): \n",
    "    if root is None: \n",
    "        return -1\n",
    "    if root.data==target: \n",
    "        printkDistance(root,k) \n",
    "        return 0\n",
    "    dl=printkdistancenode(root.left,target,k)  \n",
    "    if dl!=-1: \n",
    "        if dl+1==k : \n",
    "            print(root.data) \n",
    "        else: \n",
    "            printkdistance(root.right,k-dl-2) \n",
    "        return 1+dl  \n",
    "    dr=printkdistancenode(root.right,target,k) \n",
    "    if dr!=-1: \n",
    "        if dr+1==k: \n",
    "            print(root.data) \n",
    "        else: \n",
    "            printkdistance(root.left,k-dr-2) \n",
    "        return 1+dr \n",
    "    return -1\n",
    "\n",
    "def NodesAtKDistance(root,target,k):\n",
    "    printkdistancenode(root,target,k)\n",
    "    return"
   ]
  },
  {
   "cell_type": "code",
   "execution_count": 9,
   "id": "48fc5f8e-c9be-4175-a873-1b06fe50b866",
   "metadata": {},
   "outputs": [
    {
     "name": "stdin",
     "output_type": "stream",
     "text": [
      " 5\n",
      " 6\n",
      " 10\n",
      " 2\n",
      " 3\n",
      " N\n",
      " N\n",
      " N\n",
      " N\n",
      " N\n",
      " 9\n",
      " N\n",
      " N\n"
     ]
    }
   ],
   "source": [
    "b = treeInput()"
   ]
  },
  {
   "cell_type": "code",
   "execution_count": 19,
   "id": "d3269634-a108-403e-95dc-fde30ace37bc",
   "metadata": {},
   "outputs": [
    {
     "name": "stdout",
     "output_type": "stream",
     "text": [
      "9\n",
      "6\n"
     ]
    }
   ],
   "source": [
    "NodesAtKDistance(b,3,1)"
   ]
  },
  {
   "cell_type": "code",
   "execution_count": null,
   "id": "e0ecf7d7-2d54-4cab-8767-79b009ba821b",
   "metadata": {},
   "outputs": [],
   "source": []
  }
 ],
 "metadata": {
  "kernelspec": {
   "display_name": "Python 3 (ipykernel)",
   "language": "python",
   "name": "python3"
  },
  "language_info": {
   "codemirror_mode": {
    "name": "ipython",
    "version": 3
   },
   "file_extension": ".py",
   "mimetype": "text/x-python",
   "name": "python",
   "nbconvert_exporter": "python",
   "pygments_lexer": "ipython3",
   "version": "3.9.5"
  }
 },
 "nbformat": 4,
 "nbformat_minor": 5
}
