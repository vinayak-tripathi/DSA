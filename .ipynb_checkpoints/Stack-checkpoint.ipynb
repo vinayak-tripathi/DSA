{
 "cells": [
  {
   "cell_type": "markdown",
   "id": "173f9751-8c42-40de-9d14-b5a6826aa500",
   "metadata": {},
   "source": [
    "# 14-06-2022"
   ]
  },
  {
   "cell_type": "markdown",
   "id": "87220a15-81db-4051-a97b-547ffc72da82",
   "metadata": {},
   "source": [
    "## Stack Introduction\n",
    "Entry and exit points are same. Think It as a stack of book. You cannot insert and remoe books inbetween. ou will have to place the book at the top of the tack and also remove from the head only. To access any element you will have to remove the elements before it. It uses the concept of __`LIFO(Last In First Out)`__<br>\n",
    "__Stack is an abstract data-type__"
   ]
  },
  {
   "cell_type": "markdown",
   "id": "de599d56-8f38-4542-b2f1-47e370d6cc47",
   "metadata": {
    "tags": []
   },
   "source": [
    "### Three core commands of stack\n",
    "1. push: Insert an element at the top of the stack\n",
    "2. pop: Delete the top element from the stack\n",
    "3. top: Access the top element of the stack\n",
    "<br>\n",
    "\n",
    "#### There other commands also. They are as follows:\n",
    "4. size: This return the no of element in the stack\n",
    "5. isEmpty: This is bool return type function that checks if the stack is empty or not\n",
    "\n",
    "Remember that all the core operations of stack will be O(1) time complexity"
   ]
  },
  {
   "cell_type": "markdown",
   "id": "27ed874b-de52-48c3-87ea-9d11a27c1027",
   "metadata": {},
   "source": [
    "## Recursion Stack\n",
    "This is one of the implementation of stack. This works when we call a recursion. Example, factorial(5) using recursion. Factorial (5) will call factorial(4) , then this will call factorial(3) and factorial(2). These values will be stacked on one another in stack memory and will have the property of stack"
   ]
  },
  {
   "cell_type": "markdown",
   "id": "0a9dbc2c-0f7e-4ee1-8821-2c540c2c2ee9",
   "metadata": {},
   "source": [
    "# 15-06-2022"
   ]
  },
  {
   "cell_type": "markdown",
   "id": "e801f00e-3110-401c-af20-5cb051b4dbd4",
   "metadata": {},
   "source": [
    "## Stack using array\n",
    "Implementing stack using array in python and its all core operations"
   ]
  },
  {
   "cell_type": "code",
   "execution_count": 19,
   "id": "52b822db-d68c-4ce3-aa98-5d06ada27fc9",
   "metadata": {},
   "outputs": [],
   "source": [
    "class stack:\n",
    "    def __init__(self):\n",
    "        # remeber __<variablename> will make it private variable\n",
    "        # this array cannot be accessed outside the class\n",
    "        self.__data = []\n",
    "    def push(self,item):\n",
    "        self.__data.append(item)\n",
    "    def pop(self):\n",
    "        if self.isEmpty():\n",
    "            print(\"Stack is Empty\")\n",
    "            return\n",
    "        return self.__data.pop()\n",
    "    def top(self):\n",
    "        if self.isEmpty():\n",
    "            print(\"Stack is Empty\")\n",
    "            return\n",
    "        return self.__data[-1]\n",
    "    def size(self):\n",
    "        return len(self.__data)\n",
    "    def isEmpty(self):\n",
    "        return self.size()==0"
   ]
  },
  {
   "cell_type": "code",
   "execution_count": 45,
   "id": "6672f207-7517-4742-a59a-44b55fcc8c22",
   "metadata": {},
   "outputs": [
    {
     "name": "stdout",
     "output_type": "stream",
     "text": [
      "True\n",
      "False\n",
      "Stack is Empty\n"
     ]
    }
   ],
   "source": [
    "t = stack()\n",
    "print(vt.isEmpty())\n",
    "vt.push(1)\n",
    "vt.push(2)\n",
    "print(vt.isEmpty())\n",
    "vt.pop()\n",
    "vt.pop()\n",
    "vt.pop()"
   ]
  },
  {
   "cell_type": "markdown",
   "id": "a7ad79c0-4255-4431-b2c2-0f0ce5608b56",
   "metadata": {},
   "source": [
    "## Stack using Linked List\n",
    "Implement stack using Linked list and its all core operations"
   ]
  },
  {
   "cell_type": "code",
   "execution_count": 5,
   "id": "1b6b54b0-f31d-40ac-a492-d9a498bfa806",
   "metadata": {},
   "outputs": [],
   "source": [
    "class Node:\n",
    "    def __init__(self,data):\n",
    "        self.data = data\n",
    "        self.next = None\n",
    "\n",
    "\n",
    "class stack_ll:\n",
    "    def __init__(self):\n",
    "        self.__head = None\n",
    "        self.__count = 0 #this is included to make the size and ismepty part O(1)\n",
    "    def push(self,item):\n",
    "        newNode = Node(item)\n",
    "        newNode.next = self.__head\n",
    "        self.__head = newNode\n",
    "        self.__count += 1\n",
    "    def pop(self):\n",
    "        if self.isEmpty():\n",
    "            print(\"Stack is Empty\")\n",
    "            return\n",
    "        temp = self.__head\n",
    "        self.__head = self.__head.next\n",
    "        temp.next = None\n",
    "        self.__count -= 1\n",
    "        return temp.data\n",
    "    \n",
    "    def top(self):\n",
    "        if self.isEmpty():\n",
    "            print(\"Stack is Empty\")\n",
    "            return\n",
    "        return self.__head.data\n",
    "    def size(self):\n",
    "        return self.__count\n",
    "    def isEmpty(self):\n",
    "        return self.__count==0"
   ]
  },
  {
   "cell_type": "code",
   "execution_count": 4,
   "id": "c002d1fc-e1c3-43e9-8552-80e928407374",
   "metadata": {},
   "outputs": [],
   "source": [
    "ll_stack = stack_ll()"
   ]
  },
  {
   "cell_type": "code",
   "execution_count": 6,
   "id": "cd7fd2af-b87b-4bf4-a685-1541f7b192bd",
   "metadata": {},
   "outputs": [],
   "source": [
    "ll_stack.push(12)"
   ]
  },
  {
   "cell_type": "code",
   "execution_count": 8,
   "id": "26b28ded-640c-4dfa-92d4-772bc88ce369",
   "metadata": {},
   "outputs": [
    {
     "data": {
      "text/plain": [
       "1"
      ]
     },
     "execution_count": 8,
     "metadata": {},
     "output_type": "execute_result"
    }
   ],
   "source": [
    "ll_stack.size()"
   ]
  },
  {
   "cell_type": "code",
   "execution_count": 9,
   "id": "859f310f-bf42-4089-8675-c6018337569c",
   "metadata": {},
   "outputs": [
    {
     "name": "stdout",
     "output_type": "stream",
     "text": [
      "4\n"
     ]
    }
   ],
   "source": [
    "ll_stack.push(60)\n",
    "ll_stack.push(23)\n",
    "ll_stack.push(54)\n",
    "print(ll_stack.size())"
   ]
  },
  {
   "cell_type": "code",
   "execution_count": 14,
   "id": "27b3cdae-2115-4df2-90a8-d7df7d2e2c2c",
   "metadata": {},
   "outputs": [
    {
     "name": "stdout",
     "output_type": "stream",
     "text": [
      "Stack is Empty\n"
     ]
    }
   ],
   "source": [
    "ll_stack.pop()"
   ]
  },
  {
   "cell_type": "markdown",
   "id": "b11c5aa2-b1cc-4e81-96fb-723edf914edb",
   "metadata": {},
   "source": [
    "# 22-06-2022"
   ]
  },
  {
   "cell_type": "markdown",
   "id": "b147ff88-2eee-41f1-b574-8aa6ce4d310c",
   "metadata": {},
   "source": [
    "# Inbuilt class for queue\n",
    "Stack can be implemented using the array. This is simple Defina an array an then you can perform stack operation using .pop(), .append() inbuild list function. Rmember that you don't change the inbetween data in list else it won't remain stack <br>\n",
    "But this same thing cannot be done for Queue since once you push at the last then if you want to pop or dequeue, it will need to return the first element but shifting the remaining list to start from 0th index. THis process is definitely not O(1). `So use inbuild function for queue`\n",
    "<br> __Queue uses FIFO algo__\n",
    "<br> __Stacks are LIFO alog__"
   ]
  },
  {
   "cell_type": "code",
   "execution_count": 2,
   "id": "8131def7-1de0-4adc-b2e4-81d62a4672bc",
   "metadata": {},
   "outputs": [],
   "source": [
    "import queue #inbuild library"
   ]
  },
  {
   "cell_type": "code",
   "execution_count": 3,
   "id": "c3b6d4c6-b32a-4a83-914a-9100b6bc2550",
   "metadata": {},
   "outputs": [],
   "source": [
    "q = queue.Queue() # this defines a queue which is FIFO\n",
    "s = queue.LifoQueue() # this define a stack which is LIFO"
   ]
  },
  {
   "cell_type": "code",
   "execution_count": 4,
   "id": "e1b19c24-28f0-43d2-8271-5466d96fd237",
   "metadata": {},
   "outputs": [
    {
     "name": "stdout",
     "output_type": "stream",
     "text": [
      "False\n",
      "1\n",
      "2\n",
      "3\n",
      "True\n"
     ]
    }
   ],
   "source": [
    "q.put(1)\n",
    "q.put(2)\n",
    "q.put(3)\n",
    "print(q.empty())\n",
    "print(q.get())\n",
    "print(q.get())\n",
    "print(q.get())\n",
    "print(q.empty())"
   ]
  },
  {
   "cell_type": "code",
   "execution_count": 5,
   "id": "01db5d0d-1d6b-4180-a7e6-fe3df4cf379a",
   "metadata": {},
   "outputs": [
    {
     "name": "stdout",
     "output_type": "stream",
     "text": [
      "False\n",
      "3\n",
      "2\n",
      "1\n"
     ]
    }
   ],
   "source": [
    "s.put(1)\n",
    "s.put(2)\n",
    "s.put(3)\n",
    "print(s.empty())\n",
    "print(s.get())\n",
    "print(s.get())\n",
    "print(s.get())"
   ]
  },
  {
   "cell_type": "markdown",
   "id": "26c978bd-e8c1-4184-9f50-95b10dd42be2",
   "metadata": {},
   "source": [
    "## Balanced Bracket\n",
    "For a given a string expression containing only round brackets or parentheses, check if they are balanced or not. Brackets are said to be balanced if the bracket which opens last, closes first."
   ]
  },
  {
   "cell_type": "code",
   "execution_count": 7,
   "id": "ab3eb9cc-c0e1-4e51-a08a-ddc29fbce547",
   "metadata": {},
   "outputs": [],
   "source": [
    "def balanced_brackets(s):\n",
    "    open = ['(','{','[']\n",
    "    close = [')','}',']']\n",
    "    b = []\n",
    "    vt = []\n",
    "    for i in s:\n",
    "        if i in open:\n",
    "            b.append(i)\n",
    "        elif i in close:\n",
    "            value = b.pop() # Last element for checking\n",
    "            if (i==close[0] and value==open[0])or(i==close[1] and value==open[1])or(i==close[2] and value==open[2]):\n",
    "                # if this conditon satisfied increment\n",
    "                continue\n",
    "            else:\n",
    "                # if any bracket doesnot mathces then it is not balanced\n",
    "                return False\n",
    "    if b:\n",
    "        # if the stack is not empty then return b\n",
    "        # THis is to handle if the first element is not closed\n",
    "        return False\n",
    "    else:\n",
    "        return True"
   ]
  },
  {
   "cell_type": "code",
   "execution_count": 9,
   "id": "e550f646-d4ff-4a44-954e-68539443b3b9",
   "metadata": {},
   "outputs": [
    {
     "name": "stdout",
     "output_type": "stream",
     "text": [
      "['{']\n",
      "['{']\n",
      "['{']\n",
      "['{', '[']\n",
      "['{', '[']\n",
      "['{', '[']\n",
      "['{', '[', '(']\n",
      "['{', '[', '(']\n",
      "['{', '[', '(']\n",
      "['{', '[', '(']\n",
      "['{']\n",
      "['{', '(']\n",
      "['{', '(']\n",
      "['{', '(']\n",
      "['{', '(']\n",
      "['{']\n"
     ]
    },
    {
     "data": {
      "text/plain": [
       "False"
      ]
     },
     "execution_count": 9,
     "metadata": {},
     "output_type": "execute_result"
    }
   ],
   "source": [
    "balanced_brackets(\"{a+[b+(c+d)]+(e+f)\")"
   ]
  },
  {
   "cell_type": "markdown",
   "id": "3596cfd0-6f65-44bf-be58-c8d13efbee51",
   "metadata": {},
   "source": [
    "## Reversing a stack using another stack\n",
    "One approach that comes to the mind is that pop the element for stack and push it in the new stack. But the reference stack will be empty and and that is the wrong Approach.<br>\n",
    "Correct approach is using recursion. It is like get the last element and recverse the remaining stack and then append the last element to new to modified stack"
   ]
  },
  {
   "cell_type": "code",
   "execution_count": 20,
   "id": "2c904041-f59c-4494-af29-aa964e98a774",
   "metadata": {},
   "outputs": [],
   "source": [
    "def reverse_stack(s1,s2):\n",
    "    if len(s1) <=1:\n",
    "        return\n",
    "    while len(s1)!=1:\n",
    "        # do this while get to the last element\n",
    "        ele = s1.pop()\n",
    "        s2.append(ele)\n",
    "    las = s1.pop() # we ge tht elast element\n",
    "    while len(s2)!=0:\n",
    "        # Now we have to fill the stack again without the last element\n",
    "        ele = s2.pop() \n",
    "        s1.append(ele)\n",
    "    reverse_stack(s1,s2) # recursive call for reverse the remaining part of stack\n",
    "    s1.append(las)"
   ]
  },
  {
   "cell_type": "code",
   "execution_count": 24,
   "id": "51b92921-888c-4eb8-8f2b-91ba231a145c",
   "metadata": {},
   "outputs": [],
   "source": [
    "a =[]\n",
    "b = []"
   ]
  },
  {
   "cell_type": "code",
   "execution_count": 34,
   "id": "a62e1962-d3ae-42c9-afb0-41bae282dc6a",
   "metadata": {},
   "outputs": [
    {
     "name": "stdin",
     "output_type": "stream",
     "text": [
      "Enter length of the stack:  4\n",
      " 1\n",
      " 2\n",
      " 3\n",
      " 4\n"
     ]
    }
   ],
   "source": [
    "###### Remember that the way you enter the element the element gets added to the head\n",
    "n = int(input(\"Enter length of the stack: \"))\n",
    "a = []\n",
    "b = []\n",
    "for i in range(n):\n",
    "    a.append(int(input()))"
   ]
  },
  {
   "cell_type": "code",
   "execution_count": 35,
   "id": "f53ac289-1ea2-4aa5-adc4-9192575717c0",
   "metadata": {},
   "outputs": [],
   "source": [
    "revese_stack(a,b)"
   ]
  },
  {
   "cell_type": "code",
   "execution_count": 36,
   "id": "4a25c6f3-0ee5-4cb3-b860-f31f2d6bb4b1",
   "metadata": {},
   "outputs": [
    {
     "name": "stdout",
     "output_type": "stream",
     "text": [
      "1\n",
      "2\n",
      "3\n",
      "4\n"
     ]
    }
   ],
   "source": [
    "while len(a)!=0:\n",
    "    print(a.pop())"
   ]
  },
  {
   "cell_type": "markdown",
   "id": "1dbb234b-bd32-481b-a201-1ce8e8c36860",
   "metadata": {},
   "source": [
    "# 23-06-2022"
   ]
  },
  {
   "cell_type": "markdown",
   "id": "2fb86764-285a-4eb6-996c-e3e05d4cc18a",
   "metadata": {},
   "source": [
    "## Check redundant brackets\n",
    "For a given expression in the form of a string, find if there exist any redundant brackets or not. It is given that the expression contains only rounded brackets or parenthesis and the input expression will always be balanced.\n",
    "A pair of the bracket is said to be redundant when a sub-expression is surrounded by unnecessary or needless brackets."
   ]
  },
  {
   "cell_type": "code",
   "execution_count": 44,
   "id": "a96603ca-65af-4e4d-a4e0-bcb152df2e72",
   "metadata": {},
   "outputs": [],
   "source": [
    "def redundant_bracket(s):\n",
    "    b = []\n",
    "    vt = []\n",
    "    for i in s:\n",
    "        # print(b)\n",
    "        if i == ')':\n",
    "            top = b.pop()\n",
    "            flag = True\n",
    "            while b and top != '(':\n",
    "                if top in [\"+\",\"-\",\"*\",\"/\"]:\n",
    "                    flag = False\n",
    "                top = b.pop()\n",
    "            if flag:\n",
    "                return True\n",
    "        else:\n",
    "            b.append(i)\n",
    "        \n",
    "    return False"
   ]
  },
  {
   "cell_type": "code",
   "execution_count": 45,
   "id": "7c381e77-6dcb-4ceb-b9ab-75f6331939a0",
   "metadata": {},
   "outputs": [
    {
     "data": {
      "text/plain": [
       "True"
      ]
     },
     "execution_count": 45,
     "metadata": {},
     "output_type": "execute_result"
    }
   ],
   "source": [
    "redundant_bracket(\"((a+b))\")"
   ]
  },
  {
   "cell_type": "markdown",
   "id": "56c0f23e-7983-42af-bd1e-980ff2edfcb4",
   "metadata": {},
   "source": [
    "## Stock Span\n",
    "Afzal has been working with an organization called 'Money Traders' for the past few years. The organization is into the money trading business. His manager assigned him a task. For a given array/list of stock's prices for N days, find the stock's span for each day.\n",
    "The span of the stock's price today is defined as the maximum number of consecutive days(starting from today and going backwards) for which the price of the stock was less than today's price.\n",
    "For example, if the price of a stock over a period of 7 days are [100, 80, 60, 70, 60, 75, 85], then the stock spans will be [1, 1, 1, 2, 1, 4, 6].\n",
    "\n",
    "<bR> Source GFG"
   ]
  },
  {
   "cell_type": "code",
   "execution_count": null,
   "id": "7751c6db-d93e-4799-83cc-b9154848d639",
   "metadata": {},
   "outputs": [
    {
     "name": "stdout",
     "output_type": "stream",
     "text": [
      "[0, 0, 0, 0, 0, 0, 0]\n"
     ]
    }
   ],
   "source": [
    "def calculateSpan(A,ns):\n",
    "     \n",
    "    # Span value of first element\n",
    "    # is always 1\n",
    "    ans[0] = 1\n",
    " \n",
    "    # Calculate span values for rest\n",
    "    # of the elements\n",
    "    for i in range(1, n):\n",
    "        counter = 1\n",
    "         \n",
    "        while ((i - counter) >= 0 and\n",
    "              A[i] >= A[i - counter]):\n",
    "            counter += ans[i - counter]\n",
    "        ans[i] = counter\n",
    "\n",
    "def printArray(arr, n):\n",
    "    for i in range(0, n):\n",
    "        print (arr[i], end =\" \")\n",
    "\n",
    "price = [10, 4, 5, 90, 120, 80]\n",
    "S = [0 for i in range(len(price)+1)]\n",
    " \n",
    "# Fill the span values in array S[]\n",
    "calculateSpan(price, S)\n"
   ]
  },
  {
   "cell_type": "markdown",
   "id": "7122694e-152b-40f0-8293-207e71c69ee8",
   "metadata": {},
   "source": [
    "## Minimum bracket Reversal\n",
    "For a given expression in the form of a string, find the minimum number of brackets that can be reversed in order to make the expression balanced. The expression will only contain curly brackets.\n",
    "If the expression can't be balanced, return -1."
   ]
  },
  {
   "cell_type": "markdown",
   "id": "59479997-8f2b-4157-8948-d19380052473",
   "metadata": {},
   "source": [
    "Apporach: First remove the blanced group of the brackets. Then apply the logic"
   ]
  },
  {
   "cell_type": "code",
   "execution_count": 87,
   "id": "68e06fb5-90d2-442d-a47d-750f09b4889b",
   "metadata": {},
   "outputs": [],
   "source": [
    "def minimal_bracReversal(st):\n",
    "    s = []\n",
    "    if len(st)%2!=0: return -1\n",
    "    if len(st)==0: return 0\n",
    "    for i in st:\n",
    "        if i == '{':\n",
    "            s.append(i)\n",
    "        else:\n",
    "            # if len(s)==0:\n",
    "            #     s.append(i)\n",
    "            if  len(s)!=0 and s[-1]=='{':\n",
    "                s.pop()\n",
    "            else:\n",
    "                s.append(i)\n",
    "    count =0\n",
    "    # Now the stack will contain only the unbalanced  bracket groups\n",
    "    while len(s):\n",
    "        c1 = s.pop()\n",
    "        c2 = s.pop()\n",
    "        if c1==c2:\n",
    "            # this conditon whill be c1=={ and c2=={ or c1==} and c2==}\n",
    "            count +=1\n",
    "        else:\n",
    "            # this conditon whill be c1==} and c2=={\n",
    "            # to balance this 2 reversal will be needed and c1 and c2 cannot be {,}\n",
    "            # since that will be balanced\n",
    "            count +=2\n",
    "    # else:\n",
    "    #     return -1\n",
    "    return count"
   ]
  },
  {
   "cell_type": "code",
   "execution_count": 88,
   "id": "f33a4bc2-598c-42a2-a942-479b17e8bbe2",
   "metadata": {},
   "outputs": [],
   "source": [
    "s ='{}{}{{}{{}}{}{{{}}}}}}}{}{'"
   ]
  },
  {
   "cell_type": "code",
   "execution_count": 89,
   "id": "3973cedf-0949-4d7f-980f-a240059b6fd2",
   "metadata": {},
   "outputs": [
    {
     "data": {
      "text/plain": [
       "3"
      ]
     },
     "execution_count": 89,
     "metadata": {},
     "output_type": "execute_result"
    }
   ],
   "source": [
    "minimal_bracReversal(s)"
   ]
  }
 ],
 "metadata": {
  "kernelspec": {
   "display_name": "Python 3 (ipykernel)",
   "language": "python",
   "name": "python3"
  },
  "language_info": {
   "codemirror_mode": {
    "name": "ipython",
    "version": 3
   },
   "file_extension": ".py",
   "mimetype": "text/x-python",
   "name": "python",
   "nbconvert_exporter": "python",
   "pygments_lexer": "ipython3",
   "version": "3.9.5"
  }
 },
 "nbformat": 4,
 "nbformat_minor": 5
}
