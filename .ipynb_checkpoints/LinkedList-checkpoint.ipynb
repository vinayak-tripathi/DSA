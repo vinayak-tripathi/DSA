{
 "cells": [
  {
   "cell_type": "markdown",
   "metadata": {},
   "source": [
    "# 29-05-2022"
   ]
  },
  {
   "cell_type": "markdown",
   "metadata": {},
   "source": [
    "# Linked List\n",
    "Sequence of data elements, which are connected together via links. Data are not stored in sequential memory locations, but can be stored any where and each element can point to the next element.\n",
    "<br>\n",
    "The data elements are called nodes. Each node will contain a data element and a reference to the next node.<br><br>\n",
    "Starting Nodes reference is stored in head of the linked list.<br>\n",
    "Head of the linked list is the first node in the linked list.<br>\n",
    "Tail of the linked list is the last node in the linked list.<br>\n"
   ]
  },
  {
   "cell_type": "code",
   "execution_count": 2,
   "metadata": {},
   "outputs": [],
   "source": [
    "class Node:\n",
    "    def __init__(self, data):\n",
    "        self.data = data\n",
    "        self.next = None\n",
    "\n",
    "def takeInput():\n",
    "    # this is not optimized way of \n",
    "    l = list(map(int,input().split()))\n",
    "    head = None\n",
    "    for i in l:\n",
    "        if i ==-1:\n",
    "            break\n",
    "        newNode = Node(i)\n",
    "        if head is None:\n",
    "            head = newNode\n",
    "        else:\n",
    "            curr = head\n",
    "            while curr.next is not None:\n",
    "                curr = curr.next\n",
    "            curr.next = newNode\n",
    "    return head"
   ]
  },
  {
   "cell_type": "code",
   "execution_count": 2,
   "metadata": {},
   "outputs": [
    {
     "name": "stdout",
     "output_type": "stream",
     "text": [
      "1\n",
      "2\n",
      "2\n"
     ]
    }
   ],
   "source": [
    "a = Node(1) # Node a create with data 1\n",
    "b = Node(2) # Node b create with data 2\n",
    "a.next = b  # The next of the node a is node b\n",
    "print(a.data)\n",
    "print(b.data)\n",
    "print(a.next.data)"
   ]
  },
  {
   "cell_type": "code",
   "execution_count": 27,
   "metadata": {},
   "outputs": [],
   "source": [
    "head = takeInput()"
   ]
  },
  {
   "cell_type": "code",
   "execution_count": 11,
   "metadata": {},
   "outputs": [
    {
     "name": "stdout",
     "output_type": "stream",
     "text": [
      "<__main__.Node object at 0x0000023D37794D30>\n"
     ]
    }
   ],
   "source": [
    "print(head)"
   ]
  },
  {
   "cell_type": "markdown",
   "metadata": {},
   "source": [
    "# 30-05-2022"
   ]
  },
  {
   "cell_type": "markdown",
   "metadata": {},
   "source": [
    "# Printing the linked list\n",
    "Printing the linked using the head of the linked list."
   ]
  },
  {
   "cell_type": "code",
   "execution_count": 3,
   "metadata": {},
   "outputs": [],
   "source": [
    "# Function to print the linked list\n",
    "# Keep on interating and updating head till head is not None\n",
    "def printList(head):\n",
    "    while head:\n",
    "        print(head.data,end=\" -> \")\n",
    "        head = head.next\n",
    "    print('None')"
   ]
  },
  {
   "cell_type": "code",
   "execution_count": 28,
   "metadata": {},
   "outputs": [
    {
     "name": "stdout",
     "output_type": "stream",
     "text": [
      "1 -> 2 -> 3 -> 4 -> 5 -> 6 -> None\n"
     ]
    }
   ],
   "source": [
    "printList(head)"
   ]
  },
  {
   "cell_type": "markdown",
   "metadata": {},
   "source": [
    "# 31-05-2022"
   ]
  },
  {
   "cell_type": "markdown",
   "metadata": {},
   "source": [
    "## Time complexity Analysis of the linked list\n",
    "For above method of taking input of a linked list it requires O(n<sup>2</sup>) time complexity. This method is not optimal. Traversing the list for linking the node at the end is the lenthy operation. For list of length n, it requires (n-1) time to traverse the list. So total no of operations(ignoring the constant time of defining head and node) is n(n-1)/2."
   ]
  },
  {
   "cell_type": "markdown",
   "metadata": {},
   "source": [
    "## Optimized method of taking input of a linked list.\n",
    "This has time complexity of O(n) since we are not traversing the list for createing a new node. See the below code."
   ]
  },
  {
   "cell_type": "code",
   "execution_count": 3,
   "metadata": {},
   "outputs": [],
   "source": [
    "#Optimizing the taking input of linked list\n",
    "def takeInput():\n",
    "    t = list(map(int,input().split()))\n",
    "    head = None\n",
    "    for i in t:\n",
    "        if i == -1:\n",
    "            break\n",
    "        if head is None:\n",
    "            head = Node(i)\n",
    "            tail = head\n",
    "        else:\n",
    "            tail.next = Node(i)\n",
    "            tail = tail.next\n",
    "    return head"
   ]
  },
  {
   "cell_type": "code",
   "execution_count": 4,
   "metadata": {},
   "outputs": [
    {
     "name": "stdin",
     "output_type": "stream",
     "text": [
      " 1 2 3 4 5 6\n"
     ]
    },
    {
     "name": "stdout",
     "output_type": "stream",
     "text": [
      "1 -> 2 -> 3 -> 4 -> 5 -> 6 -> None\n"
     ]
    }
   ],
   "source": [
    "lis = takeInput()\n",
    "printList(lis)"
   ]
  },
  {
   "cell_type": "markdown",
   "metadata": {},
   "source": [
    "## Print the length of the linked list"
   ]
  },
  {
   "cell_type": "markdown",
   "metadata": {},
   "source": [
    "Time complexity of this function is O(n) since the whole operation is done for n times."
   ]
  },
  {
   "cell_type": "code",
   "execution_count": 5,
   "metadata": {},
   "outputs": [],
   "source": [
    "def lenLL(head):\n",
    "    count = 0\n",
    "    while head:\n",
    "        count += 1\n",
    "        head = head.next\n",
    "    return count"
   ]
  },
  {
   "cell_type": "code",
   "execution_count": 6,
   "metadata": {},
   "outputs": [
    {
     "data": {
      "text/plain": [
       "4"
      ]
     },
     "execution_count": 6,
     "metadata": {},
     "output_type": "execute_result"
    }
   ],
   "source": [
    "lenLL(lis)"
   ]
  },
  {
   "cell_type": "markdown",
   "metadata": {},
   "source": [
    "## Print the i<sup>th</sup> node\n",
    "For a given a singly linked list of integers and a position 'i', print the node data at the 'i-th' position."
   ]
  },
  {
   "cell_type": "code",
   "execution_count": 7,
   "metadata": {},
   "outputs": [
    {
     "name": "stdout",
     "output_type": "stream",
     "text": [
      "1 -> 2 -> 3 -> 4 -> None\n"
     ]
    }
   ],
   "source": [
    "printList(lis)"
   ]
  },
  {
   "cell_type": "code",
   "execution_count": 3,
   "metadata": {},
   "outputs": [],
   "source": [
    "def ithNode(head,i):\n",
    "    count = 0\n",
    "    while head:\n",
    "        if count == i:\n",
    "            return head\n",
    "        count += 1\n",
    "        head = head.next\n",
    "    return None"
   ]
  },
  {
   "cell_type": "code",
   "execution_count": 9,
   "metadata": {},
   "outputs": [
    {
     "name": "stdout",
     "output_type": "stream",
     "text": [
      "1 <__main__.Node object at 0x000001EE473413D0> 2\n"
     ]
    }
   ],
   "source": [
    "vt = ithNode(lis,0)\n",
    "print(vt.data,vt.next,vt.next.data)"
   ]
  },
  {
   "cell_type": "markdown",
   "metadata": {},
   "source": [
    "# 01-06-2022"
   ]
  },
  {
   "cell_type": "markdown",
   "metadata": {},
   "source": [
    "## Inserting a node at the i<sup>th</sup> position\n",
    "For a given linked list of integers and a position 'i', insert a node at the 'i-th' position with data 'd'.\n",
    "<br>`insert_at_i(head, i, d)`"
   ]
  },
  {
   "cell_type": "markdown",
   "metadata": {},
   "source": [
    "Time Complexity of the task is as follows:\n",
    "1. The time complexity of the lenLL() is O(n)\n",
    "2. Other defining tasks are O(1) order\n",
    "3. The wile loop will be continued for O(i)\n",
    "\n",
    "Considering the bound i can be zero. Hence the time complexity will be O(n)\n",
    "<br>*Note: This is iterative solution*"
   ]
  },
  {
   "cell_type": "code",
   "execution_count": 5,
   "metadata": {},
   "outputs": [],
   "source": [
    "# This is my way of doing\n",
    "def insert_at_i(head, i, d):\n",
    "    len = lenLL(head)\n",
    "    if i>0 or i<=len:\n",
    "        count  = 0\n",
    "        vt = head\n",
    "        prev= None\n",
    "        while count <=i:\n",
    "            prev = vt\n",
    "            vt = vt.next\n",
    "            count += 1\n",
    "            if count == i:\n",
    "                newNode = Node(d)\n",
    "                prev.next = newNode\n",
    "                newNode.next = vt\n",
    "                return head\n",
    "    return head"
   ]
  },
  {
   "cell_type": "code",
   "execution_count": 6,
   "metadata": {},
   "outputs": [],
   "source": [
    "# Reference Coding Ninja\n",
    "def insert_at_i(head, i, d):\n",
    "    len = lenLL(head)\n",
    "    if i<0 or i>len:\n",
    "        return head\n",
    "    count = 0\n",
    "    current = head\n",
    "    previous = None\n",
    "    if i==0:\n",
    "        newNode = Node(d)\n",
    "        newNode.next = head\n",
    "        return newNode\n",
    "    while count<i:\n",
    "        previous = current\n",
    "        current = current.next\n",
    "        count +=1\n",
    "    newNode = Node(d)\n",
    "    previous.next = newNode\n",
    "    newNode.next = current\n",
    "    return head     "
   ]
  },
  {
   "cell_type": "code",
   "execution_count": 27,
   "metadata": {},
   "outputs": [
    {
     "name": "stdout",
     "output_type": "stream",
     "text": [
      "1 -> 2 -> 3 -> 4 -> None\n"
     ]
    }
   ],
   "source": [
    "lis = takeInput()\n",
    "printList(lis)"
   ]
  },
  {
   "cell_type": "code",
   "execution_count": 32,
   "metadata": {},
   "outputs": [
    {
     "name": "stdout",
     "output_type": "stream",
     "text": [
      "1 -> 200 -> 100 -> 2 -> 3 -> 4 -> None\n"
     ]
    }
   ],
   "source": [
    "printList(insert_at_i(lis,0,200))"
   ]
  },
  {
   "cell_type": "code",
   "execution_count": 33,
   "metadata": {},
   "outputs": [
    {
     "name": "stdout",
     "output_type": "stream",
     "text": [
      "1 -> 200 -> 100 -> 2 -> 3 -> 4 -> None\n"
     ]
    }
   ],
   "source": [
    "printList(lis)"
   ]
  },
  {
   "cell_type": "code",
   "execution_count": 28,
   "metadata": {},
   "outputs": [],
   "source": [
    "len = lenLL(lis)"
   ]
  },
  {
   "cell_type": "markdown",
   "metadata": {},
   "source": [
    "# 02-06-2022"
   ]
  },
  {
   "cell_type": "markdown",
   "metadata": {},
   "source": [
    "## Delete Node at the i<sup>th</sup> position\n",
    "For a given linked list of integers and a position 'i', delete the node at the 'i-th' position."
   ]
  },
  {
   "cell_type": "code",
   "execution_count": 6,
   "metadata": {},
   "outputs": [],
   "source": [
    "def delete_at_i(head,i):\n",
    "    len = lenLL(head)\n",
    "    if i<0 or i>len:\n",
    "        return head\n",
    "    count = 0\n",
    "    current = head\n",
    "    previous = None\n",
    "    if i==0:\n",
    "        vt = current.next\n",
    "        current.Next = None\n",
    "        return vt\n",
    "    while count <i:\n",
    "        previous = current\n",
    "        current = current.next\n",
    "        count +=1        \n",
    "    previous.next = current.next\n",
    "    return head"
   ]
  },
  {
   "cell_type": "code",
   "execution_count": 10,
   "metadata": {},
   "outputs": [
    {
     "name": "stdin",
     "output_type": "stream",
     "text": [
      " 1 2 3 4 5\n"
     ]
    },
    {
     "name": "stdout",
     "output_type": "stream",
     "text": [
      "1 -> 2 -> 3 -> 4 -> 5 -> None\n"
     ]
    }
   ],
   "source": [
    "lis = takeInput()\n",
    "printList(lis)"
   ]
  },
  {
   "cell_type": "code",
   "execution_count": 53,
   "metadata": {},
   "outputs": [],
   "source": [
    "lis = delete_at_i(lis,0)\n",
    "printList(lis)"
   ]
  },
  {
   "cell_type": "markdown",
   "metadata": {},
   "source": [
    "## Length, insert and deete operations of LL (recursive)\n",
    "Given a linked list, and implement the above linked list operation using recursion"
   ]
  },
  {
   "cell_type": "code",
   "execution_count": 7,
   "metadata": {},
   "outputs": [],
   "source": [
    "def lenLL(head):\n",
    "    if head is None:\n",
    "        return 0\n",
    "    # base case if we have length from head.next then final length will be +1 to the length of the remaining list\n",
    "    return 1 + lenLL(head.next)"
   ]
  },
  {
   "cell_type": "markdown",
   "metadata": {},
   "source": [
    "### Time complexity of insert data at i<sup>th</sup> positon\n",
    "All the tasks are of order O(n)\n",
    "<br>Only the recursive call will be called i times and thus the complexity will be O(i)"
   ]
  },
  {
   "cell_type": "code",
   "execution_count": 10,
   "metadata": {},
   "outputs": [],
   "source": [
    "def insert_at_i(head,i,d):\n",
    "    # base case is insert the data dat i-1 positon in list with head  as head.next till i>=0\n",
    "    if i<0:\n",
    "        return head\n",
    "    if i==0:\n",
    "        # i=0 means the newNode will be the new head\n",
    "        newNode = Node(d)\n",
    "        newNode.next = head\n",
    "        return newNode\n",
    "    \n",
    "    # here is head is none then you have traversed whol list and no data is appended and returned\n",
    "    if head is None:\n",
    "        return None\n",
    "    # this is the recursive call where it will call the function on a one node\n",
    "    # small lsit to add at i-1 positon\n",
    "    s_head = insert_at_i(head.next,i-1,d)\n",
    "    head.next = s_head # the returned answer will be appendend with the head to\n",
    "    # get the final complete list\n",
    "    return head"
   ]
  },
  {
   "cell_type": "code",
   "execution_count": 19,
   "metadata": {},
   "outputs": [
    {
     "name": "stdin",
     "output_type": "stream",
     "text": [
      " 1 2 3 4 5\n"
     ]
    },
    {
     "name": "stdout",
     "output_type": "stream",
     "text": [
      "1 -> 2 -> 3 -> 4 -> 5 -> None\n"
     ]
    }
   ],
   "source": [
    "lis = takeInput()\n",
    "printList(lis)"
   ]
  },
  {
   "cell_type": "code",
   "execution_count": 20,
   "metadata": {},
   "outputs": [
    {
     "name": "stdout",
     "output_type": "stream",
     "text": [
      "100 -> 1 -> 2 -> 3 -> 4 -> 5 -> None\n"
     ]
    }
   ],
   "source": [
    "lis = insert_at_i(lis,0,100)\n",
    "printList(lis)"
   ]
  },
  {
   "cell_type": "code",
   "execution_count": 11,
   "metadata": {},
   "outputs": [],
   "source": [
    "def delete_at_i(head,i):\n",
    "    if head is None:\n",
    "        return None\n",
    "    if i<0:\n",
    "        return head\n",
    "    if i==0:\n",
    "        return head.next\n",
    "    s_head = delete_at_i(head.next,i-1)\n",
    "    head.next = s_head\n",
    "    return head"
   ]
  },
  {
   "cell_type": "code",
   "execution_count": 33,
   "metadata": {},
   "outputs": [
    {
     "name": "stdin",
     "output_type": "stream",
     "text": [
      " 1 2 3 4 5 -1\n"
     ]
    },
    {
     "name": "stdout",
     "output_type": "stream",
     "text": [
      "1 -> 2 -> 3 -> 4 -> 5 -> None\n"
     ]
    }
   ],
   "source": [
    "lis = takeInput()\n",
    "printList(lis)"
   ]
  },
  {
   "cell_type": "code",
   "execution_count": 35,
   "metadata": {},
   "outputs": [
    {
     "name": "stdout",
     "output_type": "stream",
     "text": [
      "1 -> 2 -> 3 -> 5 -> None\n"
     ]
    }
   ],
   "source": [
    "lis = delete_at_i(lis,3)\n",
    "printList(lis)"
   ]
  },
  {
   "cell_type": "markdown",
   "metadata": {},
   "source": [
    "# 04-06-2022"
   ]
  },
  {
   "cell_type": "markdown",
   "metadata": {},
   "source": [
    "## Find a Node in Linked List\n",
    "You have been given a singly linked list of integers. Write a function that returns the index/position of an integer data denoted by 'N' (if it exists). Return -1 otherwise."
   ]
  },
  {
   "cell_type": "code",
   "execution_count": 12,
   "metadata": {},
   "outputs": [],
   "source": [
    "def findLL(head,d):\n",
    "    cur = head\n",
    "    count = 0\n",
    "    while cur!=None:\n",
    "        if cur.data==d:\n",
    "            return count\n",
    "        cur = cur.next\n",
    "        count+=1\n",
    "    return -1  "
   ]
  },
  {
   "cell_type": "code",
   "execution_count": 29,
   "metadata": {},
   "outputs": [
    {
     "name": "stdin",
     "output_type": "stream",
     "text": [
      " 1 2 3 4 5 6 7\n"
     ]
    },
    {
     "name": "stdout",
     "output_type": "stream",
     "text": [
      "1 -> 2 -> 3 -> 4 -> 5 -> 6 -> 7 -> None\n"
     ]
    }
   ],
   "source": [
    "lis = takeInput()\n",
    "printList(lis)"
   ]
  },
  {
   "cell_type": "code",
   "execution_count": 32,
   "metadata": {},
   "outputs": [
    {
     "name": "stdout",
     "output_type": "stream",
     "text": [
      "0\n"
     ]
    }
   ],
   "source": [
    "pos = findLL(lis,1)\n",
    "print(pos)"
   ]
  },
  {
   "cell_type": "markdown",
   "metadata": {
    "tags": []
   },
   "source": [
    "## AppendLastNToFirst\n",
    "You have been given a singly linked list of integers along with an integer 'N'. Write a function to append the last 'N' nodes towards the front of the singly linked list and returns the new head to the list."
   ]
  },
  {
   "cell_type": "code",
   "execution_count": 15,
   "metadata": {},
   "outputs": [],
   "source": [
    "def AppendLastNToFirst(head,n):\n",
    "    cur = head\n",
    "    pre = None\n",
    "    count = 1\n",
    "    l = lenLL(head)\n",
    "    part = l-n\n",
    "    if n<=0 or n>=l:\n",
    "        return head\n",
    "    while count < part:\n",
    "        cur = cur.next\n",
    "        count +=1\n",
    "    h2 = cur.next\n",
    "    cur.next = None\n",
    "    cur2 = h2\n",
    "    while cur2.next!=None:\n",
    "        cur2 = cur2.next\n",
    "    cur2.next = head\n",
    "    return h2"
   ]
  },
  {
   "cell_type": "code",
   "execution_count": 53,
   "metadata": {},
   "outputs": [
    {
     "name": "stdin",
     "output_type": "stream",
     "text": [
      " 1 2 3 4 5\n"
     ]
    }
   ],
   "source": [
    "lis = takeInput()\n",
    "lis = AppendLastNToFirst(lis,4)"
   ]
  },
  {
   "cell_type": "code",
   "execution_count": 54,
   "metadata": {},
   "outputs": [
    {
     "name": "stdout",
     "output_type": "stream",
     "text": [
      "2 -> 3 -> 4 -> 5 -> 1 -> None\n"
     ]
    }
   ],
   "source": [
    "printList(lis)"
   ]
  },
  {
   "cell_type": "code",
   "execution_count": 42,
   "metadata": {},
   "outputs": [
    {
     "data": {
      "text/plain": [
       "9"
      ]
     },
     "execution_count": 42,
     "metadata": {},
     "output_type": "execute_result"
    }
   ],
   "source": [
    "lenLL(lis)"
   ]
  },
  {
   "cell_type": "markdown",
   "metadata": {},
   "source": [
    "## Remove duplicates from LL\n",
    "Given a sorted linked list (elements are sorted in ascending order), eliminate duplicates from the given LL, such that output LL contains only unique elements."
   ]
  },
  {
   "cell_type": "code",
   "execution_count": 7,
   "metadata": {},
   "outputs": [],
   "source": [
    "def removeDuplicate(head):\n",
    "    cur = head\n",
    "    pre = None\n",
    "    while cur != None:\n",
    "        pre = cur\n",
    "        cur = cur.next\n",
    "        if cur != None and cur.data == pre.data:\n",
    "            pre.next = cur.next\n",
    "            cur.next = None\n",
    "            cur = pre\n",
    "    return head"
   ]
  },
  {
   "cell_type": "code",
   "execution_count": 8,
   "metadata": {},
   "outputs": [
    {
     "name": "stdin",
     "output_type": "stream",
     "text": [
      " 1 2 3 4 4 5 6\n"
     ]
    },
    {
     "name": "stdout",
     "output_type": "stream",
     "text": [
      "1 -> 2 -> 3 -> 4 -> 5 -> 6 -> None\n"
     ]
    }
   ],
   "source": [
    "lis = takeInput()\n",
    "printList(removeDuplicate(lis))"
   ]
  },
  {
   "cell_type": "markdown",
   "metadata": {},
   "source": [
    "## Print Reverse LinkedList\n",
    "You have been given a singly linked list of integers. Write a function to print the list in a reverse order.\n",
    "To explain it further, you need to start printing the data from the tail and move towards the head of the list, printing the head data at the end.\n",
    "<br><br>_Note :\n",
    "You can’t change any of the pointers in the linked list, just print it in the reverse order._"
   ]
  },
  {
   "cell_type": "markdown",
   "metadata": {},
   "source": [
    "One of the approach is that traverse the list till last then print the last element, then again traverse the list till the node before the first element and repeat this till first node.<br>\n",
    "But the time complexity of above solution will be O(n<sup>2</sup>). <br>n+(n-1)+(n-2)+...+1 = (n<sup>2</sup> - n)/2<br><br>\n",
    "Try using recursive algorithm which will have time complexity of O(n)."
   ]
  },
  {
   "cell_type": "code",
   "execution_count": 9,
   "metadata": {},
   "outputs": [],
   "source": [
    "def printReverse(head):\n",
    "    if head is None:\n",
    "        return\n",
    "    printReverse(head.next)\n",
    "    print(head.data,end = \" \")\n",
    "    return"
   ]
  },
  {
   "cell_type": "code",
   "execution_count": 72,
   "metadata": {},
   "outputs": [
    {
     "name": "stdin",
     "output_type": "stream",
     "text": [
      " 5 4 2 1\n"
     ]
    },
    {
     "name": "stdout",
     "output_type": "stream",
     "text": [
      "5 -> 4 -> 2 -> 1 -> None\n"
     ]
    }
   ],
   "source": [
    "lis = takeInput()\n",
    "printList(lis)"
   ]
  },
  {
   "cell_type": "code",
   "execution_count": 73,
   "metadata": {},
   "outputs": [
    {
     "name": "stdout",
     "output_type": "stream",
     "text": [
      "1 2 4 5 "
     ]
    }
   ],
   "source": [
    "printReverse(lis)"
   ]
  },
  {
   "cell_type": "markdown",
   "metadata": {},
   "source": [
    "## Palindrome LinkedList\n",
    "You have been given a head to a singly linked list of integers. Write a function check to whether the list given is a 'Palindrome' or not."
   ]
  },
  {
   "cell_type": "code",
   "execution_count": 10,
   "metadata": {},
   "outputs": [],
   "source": [
    "# By heart it please\n",
    "def reverseLL(head):\n",
    "    cur = head\n",
    "    pre = None\n",
    "    while cur is not None:\n",
    "        next = cur.next\n",
    "        cur.next = pre\n",
    "        pre = cur\n",
    "        cur = next\n",
    "    return pre"
   ]
  },
  {
   "cell_type": "code",
   "execution_count": 15,
   "metadata": {},
   "outputs": [],
   "source": [
    "def isPallindrome(head):\n",
    "    cur = head\n",
    "    n = lenLL(head)\n",
    "    part = n//2+1 if n//2!=n/2 else n//2\n",
    "    count = 1\n",
    "    while count<part:\n",
    "        cur = cur.next\n",
    "        count +=1\n",
    "    h2 = cur.next\n",
    "    cur.next = None\n",
    "    h2 = reverse(h2)\n",
    "    cur1 = head\n",
    "    cur2 = h2\n",
    "    while cur1 is not None and cur2 is not None:\n",
    "        if cur1.data == cur2.data:\n",
    "            cur1,cur2 = cur1.next,cur2.next\n",
    "        else:\n",
    "            return False\n",
    "    return True"
   ]
  },
  {
   "cell_type": "code",
   "execution_count": 117,
   "metadata": {},
   "outputs": [
    {
     "name": "stdin",
     "output_type": "stream",
     "text": [
      " 1 2 3 4\n"
     ]
    },
    {
     "name": "stdout",
     "output_type": "stream",
     "text": [
      "1 -> 2 -> 3 -> 4 -> None\n"
     ]
    }
   ],
   "source": [
    "lis = takeInput()\n",
    "printList(lis)"
   ]
  },
  {
   "cell_type": "code",
   "execution_count": 118,
   "metadata": {},
   "outputs": [
    {
     "name": "stdout",
     "output_type": "stream",
     "text": [
      "False\n"
     ]
    }
   ],
   "source": [
    "vt = isPallindrome(lis)\n",
    "print(vt)"
   ]
  },
  {
   "cell_type": "markdown",
   "metadata": {},
   "source": [
    "# 05-06-2022"
   ]
  },
  {
   "cell_type": "markdown",
   "metadata": {},
   "source": [
    "## Reverse the linked list\n",
    "Reverse the linked list and return the head of the new linked list"
   ]
  },
  {
   "cell_type": "markdown",
   "metadata": {},
   "source": [
    "One of the approach is use recursion below is the code for that<br>\n",
    "Time complexity of this approach is O(n<sup>2</sup>) since all the operations are of order 1, but while considering the tailLL() operation it will be executed total of n(n-1)/2 times"
   ]
  },
  {
   "cell_type": "code",
   "execution_count": 6,
   "metadata": {},
   "outputs": [],
   "source": [
    "# This is the code to return the tail of the linked list\n",
    "# Approach is simple that traverse the list and got till th elast element\n",
    "def tailLL(head):\n",
    "    while head.next is not None:\n",
    "        head = head.next\n",
    "    return head\n",
    "    \n",
    "def reverseLL(head):\n",
    "    # if nead is None then return head only since it is empty\n",
    "    if head is None or head.next is None:\n",
    "        # this is the base case\n",
    "        return head\n",
    "    # this contains the head of the reverse linked that is reversed from the second node\n",
    "    smallhead = reverseLL(head.next)\n",
    "    tail = tailLL(smallhead)\n",
    "    # now the the reversed list is in smallhead and its tail.next will be the\n",
    "    # first node itself and the first node ka next will be None to break the link\n",
    "    tail.next = head\n",
    "    head.next = None\n",
    "    return smallhead"
   ]
  },
  {
   "cell_type": "code",
   "execution_count": 17,
   "metadata": {},
   "outputs": [
    {
     "name": "stdin",
     "output_type": "stream",
     "text": [
      " 1 2 3 4 5 6 -1\n"
     ]
    }
   ],
   "source": [
    "lis = takeInput()"
   ]
  },
  {
   "cell_type": "code",
   "execution_count": 18,
   "metadata": {},
   "outputs": [
    {
     "name": "stdout",
     "output_type": "stream",
     "text": [
      "6 -> 5 -> 4 -> 3 -> 2 -> 1 -> None\n"
     ]
    }
   ],
   "source": [
    "lis = reverseLL(lis)\n",
    "printList(lis)"
   ]
  },
  {
   "cell_type": "markdown",
   "metadata": {},
   "source": [
    "Optimizing approach. Now the major increase in time complexity is due to the tailLL()<br>\n",
    "We can eliminate this part by returning head and tail of the list simultaneously during call the reverse function. With every call you get the small head of the revesed list while does not contain the first node since it will be appended at the end of the smallhead to make the list complete. head is the new tail of the reversed list. So the returned variables are `smallhead` (new head) and `head` ( tail of the reversed list)<br><br>\n",
    "Time complexity is O(n)"
   ]
  },
  {
   "cell_type": "code",
   "execution_count": 7,
   "metadata": {},
   "outputs": [],
   "source": [
    "def reverseLL(head):\n",
    "    if head is None or head.next is None:\n",
    "        # base case is if head is none (empty list) or\n",
    "        # head.next is none (list with only one node) then its head asn tail are same\n",
    "        return head,head\n",
    "    smallhead,tail = reverseLL(head.next)\n",
    "    tail.next = head\n",
    "    head.next = None\n",
    "    return smallhead, head"
   ]
  },
  {
   "cell_type": "code",
   "execution_count": 20,
   "metadata": {},
   "outputs": [
    {
     "name": "stdin",
     "output_type": "stream",
     "text": [
      " 1 2 3 4 5 6\n"
     ]
    }
   ],
   "source": [
    "lis= takeInput()"
   ]
  },
  {
   "cell_type": "code",
   "execution_count": 21,
   "metadata": {},
   "outputs": [
    {
     "name": "stdout",
     "output_type": "stream",
     "text": [
      "6 -> 5 -> 4 -> 3 -> 2 -> 1 -> None\n"
     ]
    }
   ],
   "source": [
    "lis,tail = reverseLL(lis)\n",
    "printList(lis)"
   ]
  },
  {
   "cell_type": "markdown",
   "metadata": {},
   "source": [
    "# 06-06-2022"
   ]
  },
  {
   "cell_type": "markdown",
   "metadata": {},
   "source": [
    "## Reverse a linked list in better way\n",
    "This is the best way for reversing the list\n",
    "<br>The trick is that when we call the recursive function with the head.next then the head it self will be pointing to the tail fo the new reversed list in smallhead (Think carefully). smallhead contains list which is reversed with tail which is pointed by head.next.<br><br>\n",
    "eg: 1->2->3->4->None, when we call recursion at head.next so smallhead will contain head of 4->3->2->None. Here the last node 2 is already pointed by head.next (1.next). So, No need to get the tail of the reversed list from the recursion of by creating any function. Just assign as tail = head.next, tail.next = head, head.next = None"
   ]
  },
  {
   "cell_type": "code",
   "execution_count": 8,
   "metadata": {},
   "outputs": [],
   "source": [
    "# VVimp concept\n",
    "def reverseLL(head):\n",
    "    if head is None or head.next is None:\n",
    "        return head\n",
    "    smallhead = reverseLL(head.next)\n",
    "    # See here that tail fo the small reversed list is head.next itself\n",
    "    tail = head.next\n",
    "    tail.next = head\n",
    "    head.next = None\n",
    "    return smallhead"
   ]
  },
  {
   "cell_type": "code",
   "execution_count": 23,
   "metadata": {},
   "outputs": [
    {
     "name": "stdin",
     "output_type": "stream",
     "text": [
      " 1 2 3 4 5\n"
     ]
    },
    {
     "name": "stdout",
     "output_type": "stream",
     "text": [
      "1 -> 2 -> 3 -> 4 -> 5 -> None\n"
     ]
    }
   ],
   "source": [
    "lis = takeInput()\n",
    "printList(lis)"
   ]
  },
  {
   "cell_type": "code",
   "execution_count": 24,
   "metadata": {},
   "outputs": [
    {
     "name": "stdout",
     "output_type": "stream",
     "text": [
      "5 -> 4 -> 3 -> 2 -> 1 -> None\n"
     ]
    }
   ],
   "source": [
    "lis = reverseLL(lis)\n",
    "printList(lis)"
   ]
  },
  {
   "cell_type": "markdown",
   "metadata": {},
   "source": [
    "## Reversing Linked List Iteratively\n",
    "This also of O(n) time complexity. Only thing is that it does not used recursion. There are three ways of doing it recursively."
   ]
  },
  {
   "cell_type": "code",
   "execution_count": 9,
   "metadata": {},
   "outputs": [],
   "source": [
    "def reverseLL(head):\n",
    "    pre = None\n",
    "    while head is not None:\n",
    "        next = head.next\n",
    "        head.next = pre\n",
    "        pre = head\n",
    "        head = next\n",
    "    return pre"
   ]
  },
  {
   "cell_type": "code",
   "execution_count": 36,
   "metadata": {},
   "outputs": [
    {
     "name": "stdout",
     "output_type": "stream",
     "text": [
      "5 -> 4 -> 3 -> 2 -> 1 -> None\n"
     ]
    }
   ],
   "source": [
    "lis = reverseLL(lis)\n",
    "printList(lis)"
   ]
  },
  {
   "cell_type": "code",
   "execution_count": 35,
   "metadata": {},
   "outputs": [
    {
     "name": "stdin",
     "output_type": "stream",
     "text": [
      " 1 2 3 4 5\n"
     ]
    }
   ],
   "source": [
    "lis = takeInput()"
   ]
  },
  {
   "cell_type": "markdown",
   "metadata": {},
   "source": [
    "## Finding Midpoint of the Linked list\n",
    "Midpoint is basically the (n-1)//2th element of the list (Zero indexing is used)<br>\n",
    "eg. list has 5 elements 1-2-3-4-5 ,  midpoint will be at index 2 [(5-1)//2]\n",
    "<br> list has 6 elements 1-2-3-4-5-6 ,  midpoint will be at index 2 [(6-1)//2]"
   ]
  },
  {
   "cell_type": "markdown",
   "metadata": {},
   "source": [
    "### Concept\n",
    "We define two pointer one is moving at speed x and other at 2x. So when the 2x speed pointer will reach the end of the list then the x speed pointer will be at the mid mode of the list"
   ]
  },
  {
   "cell_type": "code",
   "execution_count": 12,
   "metadata": {},
   "outputs": [],
   "source": [
    "def midpointLL(head):\n",
    "    x1 = head # this is the slow moving pointer\n",
    "    x2 = head # this is the fast moving pointer\n",
    "    while x2.next is not None and x2.next.next is not None:\n",
    "        x1 = x1.next\n",
    "        x2 = x2.next.next\n",
    "    return x1"
   ]
  },
  {
   "cell_type": "code",
   "execution_count": 68,
   "metadata": {},
   "outputs": [
    {
     "name": "stdin",
     "output_type": "stream",
     "text": [
      " 1 2 3 4 5 6 7 8\n"
     ]
    },
    {
     "name": "stdout",
     "output_type": "stream",
     "text": [
      "1 -> 2 -> 3 -> 4 -> 5 -> 6 -> 7 -> 8 -> None\n"
     ]
    }
   ],
   "source": [
    "lis = takeInput()\n",
    "printList(lis)"
   ]
  },
  {
   "cell_type": "code",
   "execution_count": 69,
   "metadata": {
    "tags": []
   },
   "outputs": [
    {
     "name": "stdout",
     "output_type": "stream",
     "text": [
      "4\n"
     ]
    }
   ],
   "source": [
    "m = midpointLL(lis)\n",
    "print(m.data)"
   ]
  },
  {
   "cell_type": "markdown",
   "metadata": {},
   "source": [
    "## Merget two sorted LL\n",
    "The input Lists will be soted but remeber the output lists should also be sorted."
   ]
  },
  {
   "cell_type": "code",
   "execution_count": 22,
   "metadata": {},
   "outputs": [],
   "source": [
    "def merge_sorted_list(head1, head2):\n",
    "    if head1.data<head2.data:\n",
    "        fhead = head1\n",
    "        head1 = head1.next\n",
    "    else:\n",
    "        fhead = head2\n",
    "        head2 = head2.next\n",
    "    ftail = fhead\n",
    "    while True:\n",
    "        if head1 is None:\n",
    "            ftail.next = head2\n",
    "            break\n",
    "        if head2 is None:\n",
    "            ftail.next = head1\n",
    "            break\n",
    "        if head1.data >= head2.data:\n",
    "            # pass\n",
    "            ftail.next = head2\n",
    "            ftail = ftail.next\n",
    "            head2 = head2.next\n",
    "        elif head1.data < head2.data:\n",
    "            # pass\n",
    "            ftail.next = head1\n",
    "            ftail = ftail.next\n",
    "            head1 = head1.next\n",
    "    return fhead"
   ]
  },
  {
   "cell_type": "code",
   "execution_count": 23,
   "metadata": {},
   "outputs": [
    {
     "name": "stdin",
     "output_type": "stream",
     "text": [
      " 1 2 3 4 5\n",
      " 6 7 8 9 10 11 12\n"
     ]
    },
    {
     "name": "stdout",
     "output_type": "stream",
     "text": [
      "1 -> 2 -> 3 -> 4 -> 5 -> None\n",
      "6 -> 7 -> 8 -> 9 -> 10 -> 11 -> 12 -> None\n"
     ]
    }
   ],
   "source": [
    "lis1 = takeInput()\n",
    "lis2 = takeInput()\n",
    "printList(lis1)\n",
    "printList(lis2)"
   ]
  },
  {
   "cell_type": "code",
   "execution_count": 24,
   "metadata": {},
   "outputs": [
    {
     "name": "stdout",
     "output_type": "stream",
     "text": [
      "1 -> 2 -> 3 -> 4 -> 5 -> 6 -> 7 -> 8 -> 9 -> 10 -> 11 -> 12 -> None\n"
     ]
    }
   ],
   "source": [
    "lis = merge_sorted_list(lis1,lis2)\n",
    "printList(lis)"
   ]
  },
  {
   "cell_type": "markdown",
   "metadata": {},
   "source": [
    "# 08-06-2022"
   ]
  },
  {
   "cell_type": "markdown",
   "metadata": {},
   "source": [
    "## Merge Sort\n",
    "You have been given two sorted(in ascending order) singly linked lists of integers.\n",
    "Write a function to merge them in such a way that the resulting singly linked list is also sorted(in ascending order) and return the new head to the list."
   ]
  },
  {
   "cell_type": "code",
   "execution_count": 14,
   "metadata": {},
   "outputs": [],
   "source": [
    "def midpointLL(head):\n",
    "    x1 = head # this is the slow moving pointer\n",
    "    x2 = head # this is the fast moving pointer\n",
    "    while x2.next is not None and x2.next.next is not None:\n",
    "        x1 = x1.next\n",
    "        x2 = x2.next.next\n",
    "    return x1\n",
    "\n",
    "def mergeLL(h1,h2):\n",
    "    if h1 is None:\n",
    "        return h2\n",
    "    if h2 is None:\n",
    "        return h1\n",
    "    # t1 = h1\n",
    "    # t2 = h2\n",
    "    # tail = None\n",
    "    head = None\n",
    "    if h1.data<=h2.data:\n",
    "        head = h1\n",
    "        head.next = mergeLL(h1.next, h2)\n",
    "    else:\n",
    "        head = h2\n",
    "        head.next = mergeLL(h1,h2.next)\n",
    "    return head\n",
    "    \n",
    "def mergeSortLL(head):\n",
    "    if head is None or head.next is None:\n",
    "        return head\n",
    "    midNode = midpointLL(head)\n",
    "    h2= midNode.next\n",
    "    midNode.next = None\n",
    "    part1 = mergeSortLL(head)\n",
    "    part2 = mergeSortLL(h2)\n",
    "    mergedList = mergeLL(part1,part2)\n",
    "    return mergedList"
   ]
  },
  {
   "cell_type": "code",
   "execution_count": 15,
   "metadata": {},
   "outputs": [
    {
     "name": "stdin",
     "output_type": "stream",
     "text": [
      " 2 3 1 1 1 2 21 2\n"
     ]
    }
   ],
   "source": [
    "lis = takeInput()"
   ]
  },
  {
   "cell_type": "code",
   "execution_count": 16,
   "metadata": {},
   "outputs": [
    {
     "name": "stdout",
     "output_type": "stream",
     "text": [
      "2 -> 3 -> 1 -> 1 -> 1 -> 2 -> 21 -> 2 -> None\n"
     ]
    }
   ],
   "source": [
    "printList(lis)"
   ]
  },
  {
   "cell_type": "code",
   "execution_count": 17,
   "metadata": {},
   "outputs": [],
   "source": [
    "lis = mergeSortLL(lis)"
   ]
  },
  {
   "cell_type": "code",
   "execution_count": 18,
   "metadata": {},
   "outputs": [
    {
     "name": "stdout",
     "output_type": "stream",
     "text": [
      "1 -> 1 -> 1 -> 2 -> 2 -> 2 -> 3 -> 21 -> None\n"
     ]
    }
   ],
   "source": [
    "printList(lis)"
   ]
  },
  {
   "cell_type": "markdown",
   "metadata": {},
   "source": [
    "# 09-06-2022"
   ]
  },
  {
   "cell_type": "markdown",
   "metadata": {},
   "source": [
    "## Variations of the linked lists\n",
    "1. First type is the singly linked list. Whatever we have done till now are the singly linked list. In this, a sinlge node will contain `{data, next node}`.\n",
    "2. Second is the doubly linked list. Every node in the list will have the `{data, next node, previous node}`. The head of the list has previous node None and tail of the list has next node Node.\n",
    "3. Next is the circular linked list. This is similar to the singly linked list. Just the tail of the linked list is not None. It points to the head of the list. WHile traversing till the end the conditon to check if that __if(curr!=head){} else{break}__\n",
    "4. SImilar to the doubly linked list, there is circular doubly linked list in which the previous node of the head will point to the tail and the next node of the tail will point to the head of the list"
   ]
  },
  {
   "cell_type": "markdown",
   "metadata": {},
   "source": [
    "# 10-06-2022"
   ]
  },
  {
   "cell_type": "markdown",
   "metadata": {},
   "source": [
    "## Find a node in LL (recursive)\n",
    "Given a singly linked list of integers and an integer n, find and return the index for the first occurrence of 'n' in the linked list. -1 otherwise."
   ]
  },
  {
   "cell_type": "code",
   "execution_count": 2,
   "metadata": {},
   "outputs": [],
   "source": [
    "def findNode(head,n,c=0):\n",
    "    # just a reminder when you define argument [eg. (__,__,c==0)] as above then you can either pass the\n",
    "    # value of the argument (that value will be the value of the argument) or call the function\n",
    "    # without inlcuding that variable, in this case the default value defined in the function will be used\n",
    "    if head == None:\n",
    "        return -1\n",
    "    if head.data == n:\n",
    "        return c\n",
    "    else:\n",
    "        return findNode(head.next,n,c+1)"
   ]
  },
  {
   "cell_type": "code",
   "execution_count": 17,
   "metadata": {},
   "outputs": [
    {
     "name": "stdin",
     "output_type": "stream",
     "text": [
      " 100 200 300 400 9000 -34 -1\n"
     ]
    }
   ],
   "source": [
    "lis = takeInput()"
   ]
  },
  {
   "cell_type": "code",
   "execution_count": 22,
   "metadata": {},
   "outputs": [
    {
     "name": "stdout",
     "output_type": "stream",
     "text": [
      "5\n"
     ]
    }
   ],
   "source": [
    "print(findNode(lis,-34))"
   ]
  },
  {
   "cell_type": "markdown",
   "metadata": {},
   "source": [
    "## Even after Odd LinkedList\n",
    "For a given singly linked list of integers, arrange the elements such that all the even numbers are placed after the odd numbers. The relative order of the odd and even terms should remain unchanged."
   ]
  },
  {
   "cell_type": "markdown",
   "metadata": {},
   "source": [
    "The approach here is that we create two linked list which will conatin only even and only odd. Now When the original lis is tranverseed till the tail and we have the odd elements and even elements separated then make the tail of the even list None and tail of odd to evenhead is the oodhead is not none i.e if it odd list is not empty."
   ]
  },
  {
   "cell_type": "code",
   "execution_count": 6,
   "metadata": {},
   "outputs": [],
   "source": [
    "def evenafterodd(head):\n",
    "    # these varibales are the defining variables for the even and odd linked list\n",
    "    oddHead = None\n",
    "    oddTail = None\n",
    "    evenHead = None\n",
    "    evenTail = None\n",
    "    # here the odd and even head of the list will remain constant. THe tail will move to the next\n",
    "    while head is not None:\n",
    "        if head.data%2!=0:\n",
    "            if oddHead is None and oddTail is None:\n",
    "                # this condition checks if the odd list is empty\n",
    "                # if it is then intialise the head and tail for the list\n",
    "                oddHead = head\n",
    "                oddTail = oddHead\n",
    "            else:\n",
    "                # link the odd node from original list to the end of the odd list\n",
    "                oddTail.next = head\n",
    "                # now update the odd tail with the node added to the odd\n",
    "                oddTail = head\n",
    "        else:\n",
    "            if evenHead is None and evenTail is None:\n",
    "                evenHead = head\n",
    "                evenTail = evenHead\n",
    "            else:\n",
    "                evenTail.next = head\n",
    "                evenTail = head\n",
    "        head = head.next # Thi swill move the head to the next node of the original list\n",
    "    \n",
    "    \n",
    "    if evenHead is not None:\n",
    "        # if the even lis is not empty tehn iinitalize then poin its tail to None\n",
    "        evenTail.next = None\n",
    "        \n",
    "    if oddHead is not None:\n",
    "        # if the oddHead is not empty then make the oddtail.next to the evenhead\n",
    "        oddTail.next = evenHead\n",
    "    else:\n",
    "        # if the code reaches here then the odd list is empty and return the evenHead\n",
    "        return evenHead\n",
    "    \n",
    "    return oddHead"
   ]
  },
  {
   "cell_type": "code",
   "execution_count": 9,
   "metadata": {},
   "outputs": [
    {
     "name": "stdin",
     "output_type": "stream",
     "text": [
      " 1 3 5 7 9\n"
     ]
    },
    {
     "name": "stdout",
     "output_type": "stream",
     "text": [
      "1 -> 3 -> 5 -> 7 -> 9 -> None\n"
     ]
    }
   ],
   "source": [
    "lis = takeInput()\n",
    "printList(lis)"
   ]
  },
  {
   "cell_type": "code",
   "execution_count": 10,
   "metadata": {},
   "outputs": [
    {
     "name": "stdout",
     "output_type": "stream",
     "text": [
      "1 -> 3 -> 5 -> 7 -> 9 -> None\n"
     ]
    }
   ],
   "source": [
    "lis = evenafterodd(lis)\n",
    "printList(lis)"
   ]
  },
  {
   "cell_type": "markdown",
   "metadata": {},
   "source": [
    "## Delete every N nodes\n",
    "You have been given a singly linked list of integers along with two integers, 'M,' and 'N.' Traverse the linked list such that you retain the 'M' nodes, then delete the next 'N' nodes. Continue the same until the end of the linked list.\n",
    "To put it in other words, in the given linked list, you need to delete N nodes after every M nodes."
   ]
  },
  {
   "cell_type": "code",
   "execution_count": 45,
   "metadata": {},
   "outputs": [],
   "source": [
    "def delEveryNNode(head,m,n):\n",
    "    curr = head\n",
    "    while curr is not None and curr.next is not None:\n",
    "        i=1\n",
    "        while i<m and curr is not None:\n",
    "            curr = curr.next\n",
    "            i = i+1\n",
    "        if curr is None:\n",
    "            return head\n",
    "        delNode = curr.next\n",
    "        i=0\n",
    "        while i<n and delNode is not None:\n",
    "            delNode = delNode.next\n",
    "            i = i+1\n",
    "        \n",
    "        curr.next = delNode\n",
    "        curr = delNode\n",
    "    return head"
   ]
  },
  {
   "cell_type": "code",
   "execution_count": 63,
   "metadata": {},
   "outputs": [
    {
     "name": "stdin",
     "output_type": "stream",
     "text": [
      " 1 2 3 4 5 6 7 8 9\n"
     ]
    },
    {
     "name": "stdout",
     "output_type": "stream",
     "text": [
      "1 -> 2 -> 3 -> 4 -> 5 -> 6 -> 7 -> 8 -> 9 -> None\n"
     ]
    }
   ],
   "source": [
    "lis = takeInput()\n",
    "printList(lis)"
   ]
  },
  {
   "cell_type": "code",
   "execution_count": 64,
   "metadata": {},
   "outputs": [
    {
     "name": "stdout",
     "output_type": "stream",
     "text": [
      "1 -> 3 -> 5 -> 7 -> 9 -> None\n"
     ]
    }
   ],
   "source": [
    "lis = delEveryNNode(lis,1,1)\n",
    "printList(lis)"
   ]
  },
  {
   "cell_type": "markdown",
   "metadata": {},
   "source": [
    "## Swap two Nodes of LL\n",
    "You have been given a singly linked list of integers along with two integers, 'i,' and 'j.' Swap the nodes that are present at the 'i-th' and 'j-th' positions"
   ]
  },
  {
   "cell_type": "code",
   "execution_count": 1,
   "metadata": {},
   "outputs": [],
   "source": [
    "def swapij(head,i,j):\n",
    "    # in this function we will need tho handle certain cases\n",
    "    if i==j:\n",
    "        # if the i, j are same then no swapping needed\n",
    "        return head\n",
    "    curr = head\n",
    "    pre = None\n",
    "    count = 0\n",
    "    iN,jN = None,None\n",
    "    pin,pjn = None,None\n",
    "    while curr is not None:\n",
    "        if iN is not None and jN is not None:\n",
    "            # this is to just optimize the while loop. If the values are assigned to\n",
    "            # variable then break the loop\n",
    "            break\n",
    "        if count == i:\n",
    "            iN = curr\n",
    "            pin = pre\n",
    "        elif count == j:\n",
    "            jN = curr\n",
    "            pjn = pre\n",
    "        pre = curr\n",
    "        curr = curr.next\n",
    "        count = count+1\n",
    "    if pin is None:\n",
    "        pjn.next = iN\n",
    "        temp = jN.next\n",
    "        jN.next = iN.next\n",
    "        iN.next = temp\n",
    "        return jN\n",
    "    if pjn is None:\n",
    "        pin.next = jN\n",
    "        temp = iN.next\n",
    "        iN.next = jN.next\n",
    "        jN.next = temp\n",
    "        return iN\n",
    "    pin.next = jN\n",
    "    pjn.next = iN\n",
    "    temp = jN.next\n",
    "    jN.next = iN.next\n",
    "    iN.next = temp\n",
    "    return head"
   ]
  },
  {
   "cell_type": "code",
   "execution_count": 37,
   "metadata": {},
   "outputs": [
    {
     "name": "stdin",
     "output_type": "stream",
     "text": [
      " 1 2 3 4 5 6 7 8\n"
     ]
    },
    {
     "name": "stdout",
     "output_type": "stream",
     "text": [
      "1 -> 2 -> 3 -> 4 -> 5 -> 6 -> 7 -> 8 -> None\n"
     ]
    }
   ],
   "source": [
    "lis= takeInput()\n",
    "printList(lis)"
   ]
  },
  {
   "cell_type": "code",
   "execution_count": 42,
   "metadata": {},
   "outputs": [],
   "source": [
    "lis = swapij(lis,1,0)"
   ]
  },
  {
   "cell_type": "code",
   "execution_count": 43,
   "metadata": {
    "tags": []
   },
   "outputs": [
    {
     "name": "stdout",
     "output_type": "stream",
     "text": [
      "3 -> 2 -> 1 -> 4 -> 5 -> 6 -> 7 -> 8 -> None\n"
     ]
    }
   ],
   "source": [
    "printList(lis)"
   ]
  },
  {
   "cell_type": "markdown",
   "metadata": {},
   "source": [
    "# 12-06-2022"
   ]
  },
  {
   "cell_type": "markdown",
   "metadata": {},
   "source": [
    "## kReverse\n",
    "Given a singly linked list of integers, reverse the nodes of the linked list 'k' at a time and return its modified list.\n",
    " 'k' is a positive integer and is less than or equal to the length of the linked list. If the number of nodes is not a multiple of 'k,' then left-out nodes, in the end, should be reversed as well"
   ]
  },
  {
   "cell_type": "markdown",
   "metadata": {},
   "source": [
    "The approach used here is recursive. The concept here used is to take a loop and count till k from the start. THe curr node will be the tail of the list with first k nodes. Save the curr.next in h2 (this will be the head of the remaining list ignoring the first k nodes). Now make the curr.next as None to break the link and revesre that part of the list. THe reverse function will return head and tail of the reversed list. Now recursively call the kReverse function on the head of the remaining list. Next make the newly got kReversed list pointed by the tail of the first list. Then return the head."
   ]
  },
  {
   "cell_type": "code",
   "execution_count": 20,
   "metadata": {},
   "outputs": [],
   "source": [
    "def reverse(head):\n",
    "    if head is None or head.next is None:\n",
    "        #Base case\n",
    "        return head,head\n",
    "    r,t = reverse(head.next) # call the reverse again recursively\n",
    "    t.next = head # link the current head on the end of the revesed list\n",
    "    head.next = None # make the head.next to None so that it becomes the tail of the reversed list\n",
    "    t = t.next # this will contain the node which is the tail\n",
    "    return r,t # returning both head and tail of the reverssed list\n",
    "    \n",
    "def kReverse(head,k):\n",
    "    if head is None or head.next is None:\n",
    "        # Base case\n",
    "        return head\n",
    "    if k==0:\n",
    "        # if the k is 0 then no need to reverse the list\n",
    "        return head\n",
    "    curr = head # this will be used for iteration\n",
    "    h1 = head # this will be used for passing to the reverse function\n",
    "    count = 1\n",
    "    while count <k and curr.next is not None:\n",
    "        # if the count<k then break or if the curr.next is None\n",
    "        curr = curr.next\n",
    "        count += 1\n",
    "    h2 = curr.next # this is the head of the remaining list\n",
    "    curr.next = None # Break the link of the first k list with the remaing list\n",
    "    hr1,tr1 = reverse(h1) # reverse the first k node list\n",
    "    hr2 = kReverse(h2,k) # recursion on the remaining list and get the head of the kReversed list\n",
    "    tr1.next = hr2 # link the hr2 list with the reversed list by pointing the hr2 by the tail of the first list\n",
    "    return hr1 # return the head of the first k reversed list"
   ]
  },
  {
   "cell_type": "code",
   "execution_count": 21,
   "metadata": {},
   "outputs": [
    {
     "name": "stdin",
     "output_type": "stream",
     "text": [
      " 1 2 3 4 5 6 7\n"
     ]
    },
    {
     "name": "stdout",
     "output_type": "stream",
     "text": [
      "1 -> 2 -> 3 -> 4 -> 5 -> 6 -> 7 -> None\n"
     ]
    }
   ],
   "source": [
    "lis = takeInput()\n",
    "printList(lis)"
   ]
  },
  {
   "cell_type": "code",
   "execution_count": 23,
   "metadata": {},
   "outputs": [
    {
     "name": "stdout",
     "output_type": "stream",
     "text": [
      "5 -> 6 -> 3 -> 4 -> 1 -> 2 -> 7 -> None\n"
     ]
    }
   ],
   "source": [
    "lis = kReverse(lis,6)\n",
    "printList(lis)"
   ]
  },
  {
   "cell_type": "markdown",
   "metadata": {},
   "source": [
    "## Bubble Sort (Iterative)\n",
    "Given a singly linked list of integers, sort it using 'Bubble Sort.'"
   ]
  },
  {
   "cell_type": "code",
   "execution_count": 67,
   "metadata": {},
   "outputs": [],
   "source": [
    "def bubbleSort(head):\n",
    "    l = lenLL(head)\n",
    "    for i in range(l-1):\n",
    "        # above iteration is done for l-1 times\n",
    "        curr = head \n",
    "        pre = None\n",
    "        while curr.next is not None:\n",
    "            if curr.data <= curr.next.data:\n",
    "                # if consecutive data are sorted then preoceed\n",
    "                pre = curr\n",
    "                curr = curr.next\n",
    "            else:\n",
    "                if pre is None:\n",
    "                    # this imples curr is the head and thus we need to do neccesary changes\n",
    "                    next = curr.next\n",
    "                    curr.next = next.next\n",
    "                    next.next = curr\n",
    "                    pre = next\n",
    "                    head = pre\n",
    "                else:\n",
    "                    pre.next = curr.next\n",
    "                    next = curr.next\n",
    "                    curr.next = next.next\n",
    "                    next.next = curr\n",
    "                    pre = pre.next\n",
    "            # No need to upadte curr as it will be shifted to the next postion only\n",
    "            # if the nodes are not swapped then there is need to shift the curr\n",
    "    return head"
   ]
  },
  {
   "cell_type": "code",
   "execution_count": 64,
   "metadata": {},
   "outputs": [
    {
     "name": "stdin",
     "output_type": "stream",
     "text": [
      " 1 234 2342 3423 423 423 4 234 234 23 4234 \n"
     ]
    },
    {
     "name": "stdout",
     "output_type": "stream",
     "text": [
      "1 -> 234 -> 2342 -> 3423 -> 423 -> 423 -> 4 -> 234 -> 234 -> 23 -> 4234 -> None\n"
     ]
    }
   ],
   "source": [
    "lis = takeInput()\n",
    "printList(lis)"
   ]
  },
  {
   "cell_type": "code",
   "execution_count": 68,
   "metadata": {},
   "outputs": [
    {
     "name": "stdout",
     "output_type": "stream",
     "text": [
      "1 -> 4 -> 23 -> 234 -> 234 -> 234 -> 423 -> 423 -> 2342 -> 3423 -> 4234 -> None\n"
     ]
    }
   ],
   "source": [
    "lis = bubbleSort(lis)\n",
    "printList(lis)"
   ]
  }
 ],
 "metadata": {
  "interpreter": {
   "hash": "f4b2379af196c368a34064cc89b60a1e9f5160853b69b3c323cf4119a4b70be8"
  },
  "kernelspec": {
   "display_name": "Python 3 (ipykernel)",
   "language": "python",
   "name": "python3"
  },
  "language_info": {
   "codemirror_mode": {
    "name": "ipython",
    "version": 3
   },
   "file_extension": ".py",
   "mimetype": "text/x-python",
   "name": "python",
   "nbconvert_exporter": "python",
   "pygments_lexer": "ipython3",
   "version": "3.9.5"
  }
 },
 "nbformat": 4,
 "nbformat_minor": 4
}
