{
 "cells": [
  {
   "cell_type": "markdown",
   "id": "16ba8b86-6b2d-4c78-8672-1de3724a9522",
   "metadata": {},
   "source": [
    "# 25-06-2022"
   ]
  },
  {
   "cell_type": "markdown",
   "id": "5dc1f96f-a5d7-486e-9c7e-dab275ef64f5",
   "metadata": {
    "tags": []
   },
   "source": [
    "## Trees Introduction\n",
    "Consists of Node and nodes are linked together to represet a kind of hierarchy. It can be viewed as a main tree linked to other sub trees.\n",
    "* Non-Linear data structure\n",
    "* Topmost Node is Root node\n",
    "* Each Node will conatin data and a link to other nodes (also called children)\n",
    "\n",
    "Example of tree are: the way files are stored in directory, Organizational heirarchy.<br>\n",
    "Two types of trees are there __Generic Tree__, and __Binary Tree__."
   ]
  },
  {
   "cell_type": "markdown",
   "id": "aed63923-0be4-4f0b-9a09-c4d2fd50f3af",
   "metadata": {},
   "source": [
    "## Binary Trees\n",
    "This is tree where every node node can have 0, 1 or max 2 children"
   ]
  },
  {
   "cell_type": "markdown",
   "id": "ad85d185-506a-4a29-973b-d8bfe01edc1c",
   "metadata": {},
   "source": [
    "### Terminology\n",
    "* root: Topmost node in the tree. Very similar to the head of the linked list.\n",
    "If root of the tree is givren then you can traverse the whole tree\n",
    "* Parent Node: The node which have sub nodes at lower level then it is called parent node of the sub nodes.\n",
    "* siblings:  If nodes have same parent node then two Nodes are said to be sibilings\n",
    "* leaf: These are nodes without children. This is end of the tree\n",
    "* Ancestors: THe Nodes in the paths till root node will define the Ancestoe."
   ]
  },
  {
   "cell_type": "markdown",
   "id": "056ecdbb-5a85-4a2a-b70f-42ba074941e9",
   "metadata": {},
   "source": [
    "# 26-06-2022"
   ]
  },
  {
   "cell_type": "markdown",
   "id": "35702773-77fc-4dda-9f95-1e35770a254b",
   "metadata": {},
   "source": [
    "## Create a Binary Tree in Python\n",
    "A node will conatain three attributes: data, left, right.<br>\n",
    "A leaf will conatian left and rght as None"
   ]
  },
  {
   "cell_type": "code",
   "execution_count": 1,
   "id": "10a9d1d6-31a8-4aa7-93b8-4cb72f0420e1",
   "metadata": {},
   "outputs": [],
   "source": [
    "class BinaryTreeNode:\n",
    "    def __init__(self,data):\n",
    "        self.data = data\n",
    "        self.left = None\n",
    "        self.right = None"
   ]
  },
  {
   "cell_type": "markdown",
   "id": "82925ad2-168e-4341-bced-cb6b79626393",
   "metadata": {},
   "source": [
    "### Printing Binary Tree"
   ]
  },
  {
   "cell_type": "code",
   "execution_count": 11,
   "id": "698401d5-c99d-44f0-809c-1260c402d65e",
   "metadata": {},
   "outputs": [],
   "source": [
    "def printTree(root):\n",
    "    if root is None:\n",
    "        #here there are many ways of taking base case but this is the most easy way\n",
    "        # you can check if the root is leaf node by checking node.right and left are none\n",
    "        # but by checking root is None you need not define any other condition\n",
    "        return\n",
    "    print(root.data,end=\" : \")\n",
    "    if root.left is not None:\n",
    "        print(\"L\",root.left.data,end = \" \")\n",
    "    if root.right is not None:\n",
    "        print(\"R\",root.right.data,end = \" \")\n",
    "    print()\n",
    "    printTree(root.left)\n",
    "    printTree(root.right)"
   ]
  },
  {
   "cell_type": "markdown",
   "id": "b9c1a97d-82d1-45b3-926f-347e745ca0e8",
   "metadata": {},
   "source": [
    "### Take input from user"
   ]
  },
  {
   "cell_type": "code",
   "execution_count": 3,
   "id": "4a3701b4-f48f-498b-803a-8cd808adafa4",
   "metadata": {},
   "outputs": [],
   "source": [
    "def treeInput():\n",
    "    rootData = int(input())\n",
    "    if rootData == -1:\n",
    "        return None\n",
    "    root = BinaryTreeNode(rootData)\n",
    "    leftTree = treeInput()\n",
    "    rightTree = treeInput()\n",
    "    root.right = rightTree\n",
    "    root.left = leftTree\n",
    "    return root"
   ]
  },
  {
   "cell_type": "markdown",
   "id": "3dd8b432-2d98-4285-8ed3-0296197401be",
   "metadata": {},
   "source": [
    "### Count No of Nodes"
   ]
  },
  {
   "cell_type": "code",
   "execution_count": 5,
   "id": "dc254e65-f136-4e18-a4e2-40c159fa978c",
   "metadata": {},
   "outputs": [],
   "source": [
    "def numNode(root):\n",
    "    if root is None:\n",
    "        return 0\n",
    "    leftCount = numNode(root.left)\n",
    "    rightCount = numNode(root.right)\n",
    "    # if we don't add 1 here then final answer will be 0\n",
    "    return 1+leftCount+rightCount"
   ]
  },
  {
   "cell_type": "markdown",
   "id": "7630dfe9-4e9d-421a-a106-8b636ae41456",
   "metadata": {},
   "source": [
    "### Sum of Node\n",
    "For a given Binary Tree of integers, find and return the sum of all the nodes data."
   ]
  },
  {
   "cell_type": "code",
   "execution_count": 4,
   "id": "25900adf-95ee-4199-8cd9-e408a3006500",
   "metadata": {},
   "outputs": [],
   "source": [
    "def sumNode(root):\n",
    "    if root is None:\n",
    "        return 0\n",
    "    leftCount = sumNode(root.left)\n",
    "    rightCount = sumNode(root.right)\n",
    "    # if we don't add 1 here then final answer will be 0\n",
    "    return root.data+leftCount+rightCount"
   ]
  },
  {
   "cell_type": "markdown",
   "id": "a3827b0f-340a-4ca2-b4cd-456b42e26e55",
   "metadata": {},
   "source": [
    "### Find the maximum of node data"
   ]
  },
  {
   "cell_type": "code",
   "execution_count": 2,
   "id": "df86ec5b-ceb2-4a37-9caa-3f7da01e296a",
   "metadata": {},
   "outputs": [],
   "source": [
    "def maxNode(root):\n",
    "    if root is None:\n",
    "        return -1e12 # if root is none then return almost -infinity\n",
    "    leftmax = maxNode(root.left)\n",
    "    rightmax = maxNode(root.right)\n",
    "    return max(root.data,leftmax,rightmax)"
   ]
  },
  {
   "cell_type": "code",
   "execution_count": 17,
   "id": "ac7d7316-37b9-4126-ba68-36640da7dbae",
   "metadata": {},
   "outputs": [
    {
     "name": "stdout",
     "output_type": "stream",
     "text": [
      "1 : L 2 R 3 \n",
      "2 : \n",
      "3 : L 4 R 5 \n",
      "4 : L 6 \n",
      "6 : \n",
      "5 : \n"
     ]
    }
   ],
   "source": [
    "printTree(root)"
   ]
  },
  {
   "cell_type": "code",
   "execution_count": 25,
   "id": "c60cd6b8-878e-440c-a8bc-7b7660923873",
   "metadata": {},
   "outputs": [
    {
     "name": "stdout",
     "output_type": "stream",
     "text": [
      "6\n"
     ]
    }
   ],
   "source": [
    "print(maxNode(root))"
   ]
  },
  {
   "cell_type": "markdown",
   "id": "6c266868-a678-42c1-b7bb-a71ae73ff5d8",
   "metadata": {},
   "source": [
    "### Order of transversing the binary trees\n",
    "1. preOrder: root-->left-->right \n",
    "2. postorder: left-->right-root\n",
    "3. inOrder: left-->root-->right\n",
    "4. levelOrder: handle the nodes by level"
   ]
  },
  {
   "cell_type": "markdown",
   "id": "be5de5d5-ba97-45f1-a717-2bb11c13b649",
   "metadata": {},
   "source": [
    "# 29-06-2022"
   ]
  },
  {
   "cell_type": "markdown",
   "id": "e63fbaf9-a410-41f9-a70a-ec64a8b2c110",
   "metadata": {
    "tags": []
   },
   "source": [
    "## Find height of the tree\n",
    "Keep in mind that the height of the tree doenot depend on the any single path. But it is maximum "
   ]
  },
  {
   "cell_type": "code",
   "execution_count": 6,
   "id": "3ed1a22b-b6d7-45d2-bdb0-c7142ea6d1af",
   "metadata": {},
   "outputs": [],
   "source": [
    "def heightTree(arr):\n",
    "    if arr is None:\n",
    "        return 0\n",
    "    count_right = heightTree(arr.right)\n",
    "    count_left = heightTree(arr.left)\n",
    "    return max(count_right,count_left)+1"
   ]
  },
  {
   "cell_type": "code",
   "execution_count": 9,
   "id": "76a2f28f-be4d-476b-be9c-aed5e75546e7",
   "metadata": {},
   "outputs": [
    {
     "name": "stdin",
     "output_type": "stream",
     "text": [
      " 10\n",
      " 20\n",
      " 40\n",
      " -1\n",
      " -1\n",
      " 50\n",
      " -1\n",
      " -1\n",
      " 30\n",
      " -1\n",
      " -1\n"
     ]
    }
   ],
   "source": [
    "b = treeInput()"
   ]
  },
  {
   "cell_type": "code",
   "execution_count": 10,
   "id": "495b01dd-04ef-4147-addc-0edc24a112d3",
   "metadata": {},
   "outputs": [
    {
     "data": {
      "text/plain": [
       "3"
      ]
     },
     "execution_count": 10,
     "metadata": {},
     "output_type": "execute_result"
    }
   ],
   "source": [
    "heightTree(b)"
   ]
  },
  {
   "cell_type": "code",
   "execution_count": 12,
   "id": "2be2a1e6-0b80-4286-9d9a-34861695f8c2",
   "metadata": {},
   "outputs": [
    {
     "name": "stdout",
     "output_type": "stream",
     "text": [
      "10 : L 20 R 30 \n",
      "20 : L 40 R 50 \n",
      "40 : \n",
      "50 : \n",
      "30 : \n"
     ]
    }
   ],
   "source": [
    "printTree(b)"
   ]
  },
  {
   "cell_type": "markdown",
   "id": "cc614a97-0110-417f-843b-f2131ea554ce",
   "metadata": {},
   "source": [
    "## Number of Leaf Nodes in BT\n",
    "Here we have to consider the base case that if the Root is None then there will be not leaf node. Also if the both left and right of the root is None then only it is leaf."
   ]
  },
  {
   "cell_type": "code",
   "execution_count": 13,
   "id": "7c267b94-75f3-45f7-8d16-54740fb80026",
   "metadata": {},
   "outputs": [],
   "source": [
    "def numLeafNodes(root):\n",
    "    if root is None:\n",
    "        return 0\n",
    "    if root.left is None and root.right is None:\n",
    "        return 1\n",
    "    numLeafRight = numLeafNodes(root.right)\n",
    "    numLeafLeft = numLeafNodes(root.left)\n",
    "    return numLeafRight + numLeafLeft"
   ]
  },
  {
   "cell_type": "code",
   "execution_count": 14,
   "id": "294ccf5d-049c-4424-8aad-5a6ec4f3f74a",
   "metadata": {},
   "outputs": [
    {
     "name": "stdin",
     "output_type": "stream",
     "text": [
      " 1\n",
      " 2\n",
      " -1\n",
      " -1\n",
      " -1\n"
     ]
    }
   ],
   "source": [
    "b = treeInput()"
   ]
  },
  {
   "cell_type": "code",
   "execution_count": 15,
   "id": "4c0abe44-5469-4c20-a997-69b091cf3775",
   "metadata": {},
   "outputs": [
    {
     "data": {
      "text/plain": [
       "1"
      ]
     },
     "execution_count": 15,
     "metadata": {},
     "output_type": "execute_result"
    }
   ],
   "source": [
    "numLeafNodes(b)"
   ]
  },
  {
   "cell_type": "markdown",
   "id": "01708257-d53e-4a1e-8d27-637f879c4809",
   "metadata": {},
   "source": [
    "## Print Nodes at Depth K\n",
    "Approach is that as the nodes are traversed, reduce the value of k and where the value of k ==0 then we have reached the required dept and thus print the node data.<br>\n",
    "Other possible solution is that you can pass the depth and oncrease it will every traverse and check if is equal to the K. If yes then you have reached the required depth and thus print the node data"
   ]
  },
  {
   "cell_type": "code",
   "execution_count": 19,
   "id": "4f5f2692-1278-455e-bdfe-bb3f16a99495",
   "metadata": {},
   "outputs": [],
   "source": [
    "# here we will assume that K < height of BT\n",
    "def nodesAtK(root,k):\n",
    "    if root == None:\n",
    "        return\n",
    "    if k == 0:\n",
    "        print(root.data)\n",
    "        return\n",
    "    nodesAtK(root.left,k-1)\n",
    "    nodesAtK(root.right,k-1)"
   ]
  },
  {
   "cell_type": "code",
   "execution_count": 22,
   "id": "817b15f9-b433-43f2-9dbd-c8ceed2a1823",
   "metadata": {},
   "outputs": [
    {
     "name": "stdin",
     "output_type": "stream",
     "text": [
      " 1\n",
      " 2\n",
      " 4\n",
      " -1\n",
      " -1\n",
      " 5\n",
      " -1\n",
      " -1\n",
      " 3\n",
      " 6\n",
      " -1\n",
      " -1\n",
      " -1\n"
     ]
    }
   ],
   "source": [
    "b = treeInput()"
   ]
  },
  {
   "cell_type": "code",
   "execution_count": 23,
   "id": "123eee72-6874-4825-b8c5-000c5c8d58c1",
   "metadata": {},
   "outputs": [
    {
     "name": "stdout",
     "output_type": "stream",
     "text": [
      "4\n",
      "5\n",
      "6\n"
     ]
    }
   ],
   "source": [
    "nodesAtK(b,2)"
   ]
  },
  {
   "cell_type": "markdown",
   "id": "6fce63c4-e7c4-4108-b2ce-322c9d3ee0ba",
   "metadata": {},
   "source": [
    "## Replace Node with Depth\n",
    "For a given a Binary Tree of integers, replace each of its data with the depth of the tree.\n",
    "Root is at depth 0, hence the root data is updated with 0. Replicate the same further going down the in the depth of the given tree."
   ]
  },
  {
   "cell_type": "code",
   "execution_count": 24,
   "id": "52065491-923c-47bf-ad14-ad3b98cffa1d",
   "metadata": {},
   "outputs": [],
   "source": [
    "def repalceDepth(root,depth = 0):\n",
    "    if root is None:\n",
    "        return\n",
    "    root.data = depth\n",
    "    repalceDepth(root.left,depth+1)\n",
    "    repalceDepth(root.right,depth+1)"
   ]
  },
  {
   "cell_type": "code",
   "execution_count": 30,
   "id": "759e2880-c984-4bbf-8e97-741da7780e11",
   "metadata": {},
   "outputs": [],
   "source": [
    "def printInOrder(root):\n",
    "    if root is None:\n",
    "        return\n",
    "    printInOrder(root.left)\n",
    "    print(root.data,end = \" \")\n",
    "    printInOrder(root.right)"
   ]
  },
  {
   "cell_type": "code",
   "execution_count": 32,
   "id": "e2f8010c-9ba1-4cab-9d15-79ca13db3688",
   "metadata": {},
   "outputs": [],
   "source": [
    "repalceDepth(b)"
   ]
  },
  {
   "cell_type": "code",
   "execution_count": 33,
   "id": "4dea0a97-827b-4fc7-a49d-e6ad468ea9c1",
   "metadata": {},
   "outputs": [
    {
     "name": "stdout",
     "output_type": "stream",
     "text": [
      "2 1 2 0 2 1 "
     ]
    }
   ],
   "source": [
    "printInOrder(b)"
   ]
  },
  {
   "cell_type": "markdown",
   "id": "a3b7e12c-125b-4b99-a40d-daef84259ca4",
   "metadata": {},
   "source": [
    "## Is Node Present?\n",
    "For a given Binary Tree of type integer and a number X, find whether a node exists in the tree with data X or not."
   ]
  },
  {
   "cell_type": "code",
   "execution_count": 39,
   "id": "0450038d-0cdf-4821-bb82-687eb28ecfc4",
   "metadata": {},
   "outputs": [],
   "source": [
    "def isNodePresent(root,x):\n",
    "    if root is None:\n",
    "        return False\n",
    "    if root.data == x: return True\n",
    "    return isNodePresent(root.right,x) or isNodePresent(root.left,x)"
   ]
  },
  {
   "cell_type": "code",
   "execution_count": 43,
   "id": "58ba697c-bce9-4b53-8a2d-09c9f7f6f1de",
   "metadata": {},
   "outputs": [
    {
     "name": "stdin",
     "output_type": "stream",
     "text": [
      " 8\n",
      " 3\n",
      " 10\n",
      " 1\n",
      " 6\n",
      " -1\n",
      " 14\n",
      " -1\n",
      " -1\n",
      " 4\n",
      " 7\n",
      " 13\n",
      " -1\n",
      " -1\n",
      " -1\n",
      " -1\n",
      " -1\n",
      " -1\n",
      " -1\n"
     ]
    },
    {
     "name": "stdout",
     "output_type": "stream",
     "text": [
      "8 : L 3 \n",
      "3 : L 10 \n",
      "10 : L 1 \n",
      "1 : L 6 R 4 \n",
      "6 : R 14 \n",
      "14 : \n",
      "4 : L 7 \n",
      "7 : L 13 \n",
      "13 : \n"
     ]
    }
   ],
   "source": [
    "b = treeInput()\n",
    "printTree(b)"
   ]
  },
  {
   "cell_type": "code",
   "execution_count": 56,
   "id": "dd540eac-c992-4b78-8957-f9d0a6ba5781",
   "metadata": {},
   "outputs": [
    {
     "data": {
      "text/plain": [
       "True"
      ]
     },
     "execution_count": 56,
     "metadata": {},
     "output_type": "execute_result"
    }
   ],
   "source": [
    "isNodePresent(b,3)"
   ]
  },
  {
   "cell_type": "markdown",
   "id": "4f278f39-4482-4393-a633-3c649bc5f19a",
   "metadata": {},
   "source": [
    "## Nodes wothout sibling\n",
    "For a given Binary Tree of type integer, print all the nodes without any siblings.<br>\n",
    "<a href = \"https://www.geeksforgeeks.org/print-nodes-dont-sibling-binary-tree/\"> Source </a>"
   ]
  },
  {
   "cell_type": "code",
   "execution_count": 60,
   "id": "5dbd625d-6b0e-41aa-b24b-b46600d38473",
   "metadata": {},
   "outputs": [],
   "source": [
    "def printSingles(root):\n",
    " \n",
    "    # Base Case\n",
    "    if root is None:\n",
    "        return\n",
    " \n",
    "    # If this is an internal node , recur for left\n",
    "    # and right subtrees\n",
    "    if root.left is not None and root.right is not None:\n",
    "        printSingles(root.left)\n",
    "        printSingles(root.right)\n",
    " \n",
    "    # If left child is NULL, and right is not, print\n",
    "    # right child and recur for right child\n",
    "    elif root.right is not None:\n",
    "        print (root.right.data,end=\" \")\n",
    "        printSingles(root.right)\n",
    " \n",
    "    # If right child is NULL and left is not, print\n",
    "    # left child and recur for left child\n",
    "    elif root.left is not None:\n",
    "        print (root.left.data,end=\" \")\n",
    "        printSingles(root.left)"
   ]
  },
  {
   "cell_type": "code",
   "execution_count": 63,
   "id": "035da693-c3e6-470d-ac68-410fea7f4c04",
   "metadata": {},
   "outputs": [
    {
     "name": "stdout",
     "output_type": "stream",
     "text": [
      "3 10 1 14 7 13 "
     ]
    }
   ],
   "source": [
    "printSingles(b)"
   ]
  },
  {
   "cell_type": "code",
   "execution_count": 64,
   "id": "87d42a58-2a33-4264-b0f4-56290cda523c",
   "metadata": {},
   "outputs": [
    {
     "name": "stdin",
     "output_type": "stream",
     "text": [
      " 2\n",
      " 4\n",
      " 5\n",
      " 6\n",
      " -1\n",
      " -1\n",
      " 7\n",
      " 20\n",
      " 30\n",
      " 80\n",
      " 90\n",
      " -1\n",
      " 8\n",
      " 9\n",
      " -1\n",
      " -1\n",
      " -1\n",
      " -1\n",
      " -1\n",
      " -1\n",
      " -1\n",
      " -1\n",
      " -1\n"
     ]
    },
    {
     "name": "stdout",
     "output_type": "stream",
     "text": [
      "2 : L 4 \n",
      "4 : L 5 \n",
      "5 : L 6 R 7 \n",
      "6 : \n",
      "7 : L 20 \n",
      "20 : L 30 \n",
      "30 : L 80 \n",
      "80 : L 90 \n",
      "90 : R 8 \n",
      "8 : L 9 \n",
      "9 : \n"
     ]
    }
   ],
   "source": [
    "b = treeInput()\n",
    "printTree(b)"
   ]
  },
  {
   "cell_type": "code",
   "execution_count": 65,
   "id": "f6be5c3c-7af4-4468-ad9d-f800d98312f6",
   "metadata": {},
   "outputs": [
    {
     "name": "stdout",
     "output_type": "stream",
     "text": [
      "4 5 20 30 80 90 8 9 "
     ]
    }
   ],
   "source": [
    "printSingles(b)"
   ]
  },
  {
   "cell_type": "code",
   "execution_count": null,
   "id": "5db14a4c-a89f-4a06-8d13-a81950dd0239",
   "metadata": {},
   "outputs": [],
   "source": []
  }
 ],
 "metadata": {
  "kernelspec": {
   "display_name": "Python 3 (ipykernel)",
   "language": "python",
   "name": "python3"
  },
  "language_info": {
   "codemirror_mode": {
    "name": "ipython",
    "version": 3
   },
   "file_extension": ".py",
   "mimetype": "text/x-python",
   "name": "python",
   "nbconvert_exporter": "python",
   "pygments_lexer": "ipython3",
   "version": "3.9.5"
  }
 },
 "nbformat": 4,
 "nbformat_minor": 5
}
